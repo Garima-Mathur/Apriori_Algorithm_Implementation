{
 "cells": [
  {
   "cell_type": "markdown",
   "metadata": {
    "id": "So-Mgy5JxuTB"
   },
   "source": [
    "**Importing all required Libraries**"
   ]
  },
  {
   "cell_type": "code",
   "execution_count": 1,
   "metadata": {
    "id": "7ubPtZk9-4Ab"
   },
   "outputs": [],
   "source": [
    "import numpy as np\n",
    "import pandas as pd\n",
    "import io\n",
    "import itertools"
   ]
  },
  {
   "cell_type": "markdown",
   "metadata": {
    "id": "KoFPbjpIqvI2"
   },
   "source": [
    "## **DATASET 1-**"
   ]
  },
  {
   "cell_type": "markdown",
   "metadata": {
    "id": "NZwcbkuhaQ-y"
   },
   "source": [
    "**Uploading Dataset using filesystem. All Datasets are available in GitHub for convinience.**"
   ]
  },
  {
   "cell_type": "code",
   "execution_count": 19,
   "metadata": {
    "colab": {
     "base_uri": "https://localhost:8080/"
    },
    "id": "lwY4t7H0-_Yw",
    "outputId": "d8ab5e05-1cf7-4162-aa9f-ed9811b7e211"
   },
   "outputs": [],
   "source": [
    "data=pd.read_csv(r\"C:\\Users\\HP\\OneDrive\\Desktop\\DATA_MINING_MIDTERM_PROJECT\\Dataset1.csv\")"
   ]
  },
  {
   "cell_type": "code",
   "execution_count": 20,
   "metadata": {
    "colab": {
     "base_uri": "https://localhost:8080/",
     "height": 203
    },
    "id": "-JrWk3fBYQ8s",
    "outputId": "8fe20b54-071d-4936-886d-0dcaf122a0dc"
   },
   "outputs": [
    {
     "data": {
      "text/html": [
       "<div>\n",
       "<style scoped>\n",
       "    .dataframe tbody tr th:only-of-type {\n",
       "        vertical-align: middle;\n",
       "    }\n",
       "\n",
       "    .dataframe tbody tr th {\n",
       "        vertical-align: top;\n",
       "    }\n",
       "\n",
       "    .dataframe thead th {\n",
       "        text-align: right;\n",
       "    }\n",
       "</style>\n",
       "<table border=\"1\" class=\"dataframe\">\n",
       "  <thead>\n",
       "    <tr style=\"text-align: right;\">\n",
       "      <th></th>\n",
       "      <th>A Beginner's Guide</th>\n",
       "      <th>Java: The Complete Reference</th>\n",
       "      <th>Java For Dummies</th>\n",
       "      <th>Android Programming: The Big Nerd Ranch</th>\n",
       "      <th>Unnamed: 4</th>\n",
       "    </tr>\n",
       "  </thead>\n",
       "  <tbody>\n",
       "    <tr>\n",
       "      <th>0</th>\n",
       "      <td>A Beginner's Guide</td>\n",
       "      <td>Java: The Complete Reference</td>\n",
       "      <td>Java For Dummies</td>\n",
       "      <td>NaN</td>\n",
       "      <td>NaN</td>\n",
       "    </tr>\n",
       "    <tr>\n",
       "      <th>1</th>\n",
       "      <td>A Beginner's Guide</td>\n",
       "      <td>Java: The Complete Reference</td>\n",
       "      <td>Java For Dummies</td>\n",
       "      <td>Android Programming: The Big Nerd Ranch</td>\n",
       "      <td>Head First Java 2nd Edition</td>\n",
       "    </tr>\n",
       "    <tr>\n",
       "      <th>2</th>\n",
       "      <td>Android Programming: The Big Nerd Ranch</td>\n",
       "      <td>Head First Java 2nd Edition</td>\n",
       "      <td>Beginning Programming with Java</td>\n",
       "      <td>NaN</td>\n",
       "      <td>NaN</td>\n",
       "    </tr>\n",
       "    <tr>\n",
       "      <th>3</th>\n",
       "      <td>Android Programming: The Big Nerd Ranch</td>\n",
       "      <td>Beginning Programming with Java</td>\n",
       "      <td>Java 8 Pocket Guide</td>\n",
       "      <td>NaN</td>\n",
       "      <td>NaN</td>\n",
       "    </tr>\n",
       "    <tr>\n",
       "      <th>4</th>\n",
       "      <td>A Beginner?s Guide</td>\n",
       "      <td>Android Programming: The Big Nerd Ranch</td>\n",
       "      <td>Head First Java 2nd Edition</td>\n",
       "      <td>NaN</td>\n",
       "      <td>NaN</td>\n",
       "    </tr>\n",
       "  </tbody>\n",
       "</table>\n",
       "</div>"
      ],
      "text/plain": [
       "                        A Beginner's Guide  \\\n",
       "0                       A Beginner's Guide   \n",
       "1                       A Beginner's Guide   \n",
       "2  Android Programming: The Big Nerd Ranch   \n",
       "3  Android Programming: The Big Nerd Ranch   \n",
       "4                       A Beginner?s Guide   \n",
       "\n",
       "              Java: The Complete Reference                 Java For Dummies  \\\n",
       "0             Java: The Complete Reference                 Java For Dummies   \n",
       "1             Java: The Complete Reference                 Java For Dummies   \n",
       "2              Head First Java 2nd Edition  Beginning Programming with Java   \n",
       "3          Beginning Programming with Java              Java 8 Pocket Guide   \n",
       "4  Android Programming: The Big Nerd Ranch      Head First Java 2nd Edition   \n",
       "\n",
       "   Android Programming: The Big Nerd Ranch                   Unnamed: 4  \n",
       "0                                      NaN                          NaN  \n",
       "1  Android Programming: The Big Nerd Ranch  Head First Java 2nd Edition  \n",
       "2                                      NaN                          NaN  \n",
       "3                                      NaN                          NaN  \n",
       "4                                      NaN                          NaN  "
      ]
     },
     "execution_count": 20,
     "metadata": {},
     "output_type": "execute_result"
    }
   ],
   "source": [
    "data.head()"
   ]
  },
  {
   "cell_type": "code",
   "execution_count": 21,
   "metadata": {
    "colab": {
     "base_uri": "https://localhost:8080/",
     "height": 203
    },
    "id": "WtfyUS_mYhLK",
    "outputId": "b3840d93-e40f-40b9-a661-39e3a4bbaea2"
   },
   "outputs": [
    {
     "data": {
      "text/html": [
       "<div>\n",
       "<style scoped>\n",
       "    .dataframe tbody tr th:only-of-type {\n",
       "        vertical-align: middle;\n",
       "    }\n",
       "\n",
       "    .dataframe tbody tr th {\n",
       "        vertical-align: top;\n",
       "    }\n",
       "\n",
       "    .dataframe thead th {\n",
       "        text-align: right;\n",
       "    }\n",
       "</style>\n",
       "<table border=\"1\" class=\"dataframe\">\n",
       "  <thead>\n",
       "    <tr style=\"text-align: right;\">\n",
       "      <th></th>\n",
       "      <th>A Beginner's Guide</th>\n",
       "      <th>Java: The Complete Reference</th>\n",
       "      <th>Java For Dummies</th>\n",
       "      <th>Android Programming: The Big Nerd Ranch</th>\n",
       "      <th>Unnamed: 4</th>\n",
       "    </tr>\n",
       "  </thead>\n",
       "  <tbody>\n",
       "    <tr>\n",
       "      <th>14</th>\n",
       "      <td>A Beginner?s Guide</td>\n",
       "      <td>Java: The Complete Reference</td>\n",
       "      <td>Java For Dummies</td>\n",
       "      <td>Android Programming: The Big Nerd Ranch</td>\n",
       "      <td>NaN</td>\n",
       "    </tr>\n",
       "    <tr>\n",
       "      <th>15</th>\n",
       "      <td>A Beginner?s Guide</td>\n",
       "      <td>Java: The Complete Reference</td>\n",
       "      <td>Java For Dummies</td>\n",
       "      <td>Android Programming: The Big Nerd Ranch</td>\n",
       "      <td>NaN</td>\n",
       "    </tr>\n",
       "    <tr>\n",
       "      <th>16</th>\n",
       "      <td>Head First Java 2nd Edition</td>\n",
       "      <td>Beginning Programming with Java</td>\n",
       "      <td>Java 8 Pocket Guide</td>\n",
       "      <td>NaN</td>\n",
       "      <td>NaN</td>\n",
       "    </tr>\n",
       "    <tr>\n",
       "      <th>17</th>\n",
       "      <td>Android Programming: The Big Nerd Ranch</td>\n",
       "      <td>Head First Java 2nd Edition</td>\n",
       "      <td>NaN</td>\n",
       "      <td>NaN</td>\n",
       "      <td>NaN</td>\n",
       "    </tr>\n",
       "    <tr>\n",
       "      <th>18</th>\n",
       "      <td>A Beginner?s Guide</td>\n",
       "      <td>Java For Dummies</td>\n",
       "      <td>NaN</td>\n",
       "      <td>NaN</td>\n",
       "      <td>NaN</td>\n",
       "    </tr>\n",
       "  </tbody>\n",
       "</table>\n",
       "</div>"
      ],
      "text/plain": [
       "                         A Beginner's Guide     Java: The Complete Reference  \\\n",
       "14                       A Beginner?s Guide     Java: The Complete Reference   \n",
       "15                       A Beginner?s Guide     Java: The Complete Reference   \n",
       "16              Head First Java 2nd Edition  Beginning Programming with Java   \n",
       "17  Android Programming: The Big Nerd Ranch      Head First Java 2nd Edition   \n",
       "18                       A Beginner?s Guide                 Java For Dummies   \n",
       "\n",
       "       Java For Dummies  Android Programming: The Big Nerd Ranch Unnamed: 4  \n",
       "14     Java For Dummies  Android Programming: The Big Nerd Ranch        NaN  \n",
       "15     Java For Dummies  Android Programming: The Big Nerd Ranch        NaN  \n",
       "16  Java 8 Pocket Guide                                      NaN        NaN  \n",
       "17                  NaN                                      NaN        NaN  \n",
       "18                  NaN                                      NaN        NaN  "
      ]
     },
     "execution_count": 21,
     "metadata": {},
     "output_type": "execute_result"
    }
   ],
   "source": [
    "data.tail()"
   ]
  },
  {
   "cell_type": "markdown",
   "metadata": {
    "id": "yUY8z0X6YAxa"
   },
   "source": [
    "**Getting input from the user for the following :**\n",
    " \n",
    "**1.Number of Transactions (Max possible value = 20)**\n",
    "\n",
    "**2.Maximum items per transactions (Max possible value = 5)**\n",
    "\n",
    "**3.Minimum value of support (Min possible value = 20)**\n",
    "\n",
    "**4.Minimum confidence value (Maximum possible value =100)**\n"
   ]
  },
  {
   "cell_type": "code",
   "execution_count": 22,
   "metadata": {
    "colab": {
     "base_uri": "https://localhost:8080/"
    },
    "id": "B1sEH06TXsGA",
    "outputId": "c742f92d-a4e8-46ba-fea2-bff4b24e762a"
   },
   "outputs": [
    {
     "name": "stdout",
     "output_type": "stream",
     "text": [
      "Number of transactions as per database : 10\n",
      "Maximum items in each transaction as per database : 5\n",
      "Minimum support value : 20\n",
      "Minimum_Confidence_value : 60\n"
     ]
    }
   ],
   "source": [
    "No_of_Transactions=int(input(\"Number of transactions as per database : \"))\n",
    "Maximum_Items=int(input(\"Maximum items in each transaction as per database : \"))\n",
    "\n",
    "minimum_support_count=float(input(\"Minimum support value : \"))\n",
    "Minimum_Support= (minimum_support_count/100)*No_of_Transactions\n",
    "\n",
    "Minimum_Confidence_value=float(input(\"Minimum_Confidence_value : \"))"
   ]
  },
  {
   "cell_type": "markdown",
   "metadata": {
    "id": "h8h6OGIea0dI"
   },
   "source": [
    "**Data processing to create the required records and item-list for further processing.**"
   ]
  },
  {
   "cell_type": "code",
   "execution_count": 23,
   "metadata": {
    "colab": {
     "base_uri": "https://localhost:8080/"
    },
    "id": "A7r1I1Bfa3tz",
    "outputId": "170b3561-0aa7-4ba5-d306-2471921984ee"
   },
   "outputs": [
    {
     "name": "stdout",
     "output_type": "stream",
     "text": [
      "Input Transactions :  [[\"A Beginner's Guide\", 'Java: The Complete Reference', 'Java For Dummies', 'nan', 'nan'], [\"A Beginner's Guide\", 'Java: The Complete Reference', 'Java For Dummies', 'Android Programming: The Big Nerd Ranch', 'Head First Java 2nd Edition'], ['Android Programming: The Big Nerd Ranch', 'Head First Java 2nd Edition', 'Beginning Programming with Java', 'nan', 'nan'], ['Android Programming: The Big Nerd Ranch', 'Beginning Programming with Java', 'Java 8 Pocket Guide', 'nan', 'nan'], ['A Beginner?s Guide', 'Android Programming: The Big Nerd Ranch', 'Head First Java 2nd Edition', 'nan', 'nan'], ['A Beginner?s Guide', 'Head First Java 2nd Edition', 'Beginning Programming with Java', 'nan', 'nan'], ['Java: The Complete Reference', 'Java For Dummies', 'Android Programming: The Big Nerd Ranch', 'nan', 'nan'], ['Java For Dummies', 'Android Programming: The Big Nerd Ranch', 'Head First Java 2nd Edition', 'Beginning Programming with Java', 'nan'], ['Beginning Programming with Java', 'Java 8 Pocket Guide', 'C++ Programming in Easy Steps', 'nan', 'nan'], ['A Beginner?s Guide', 'Java: The Complete Reference', 'Java For Dummies', 'Android Programming: The Big Nerd Ranch', 'nan']]\n"
     ]
    }
   ],
   "source": [
    "Input_Data = []\n",
    "for i in range(0, No_of_Transactions):\n",
    "    Input_Data.append([str(data.values[i,j]) for j in range(0, Maximum_Items)])\n",
    "\n",
    "print(\"Input Transactions : \", Input_Data)\n",
    "items = sorted([item for sublist in Input_Data for item in sublist if item != 'nan'])"
   ]
  },
  {
   "cell_type": "markdown",
   "metadata": {
    "id": "Nma55kcmjF6Z"
   },
   "source": [
    "**For k=1 to 4 , candidate_set and the frequent ItemSet are calculated by comparing the support count of each item in the list to the Minimum Support value. We check  if all the subsets in itemset are frequent using the check subset frequency function and if not, we remove respective itemset from the list by comparing the length of the two possible lists using the sublist function.**\n",
    "\n",
    "**We are printing all the Item_Sets generated after calculations.**"
   ]
  },
  {
   "cell_type": "code",
   "execution_count": 24,
   "metadata": {
    "colab": {
     "base_uri": "https://localhost:8080/"
    },
    "id": "Wl_keCnc-rqx",
    "outputId": "bce8ef50-a566-4ab1-d2ab-e9ff28152be2"
   },
   "outputs": [
    {
     "name": "stdout",
     "output_type": "stream",
     "text": [
      " \n",
      " \n",
      "Frequent Item set generated when k=1 =>  {\"A Beginner's Guide\": 2, 'A Beginner?s Guide': 3, 'Android Programming: The Big Nerd Ranch': 7, 'Beginning Programming with Java': 5, 'Head First Java 2nd Edition': 5, 'Java 8 Pocket Guide': 2, 'Java For Dummies': 5, 'Java: The Complete Reference': 4}\n",
      "Frequent Item set generated when k=2 =>  {(\"A Beginner's Guide\", 'Java For Dummies'): 2, (\"A Beginner's Guide\", 'Java: The Complete Reference'): 2, ('A Beginner?s Guide', 'Android Programming: The Big Nerd Ranch'): 2, ('A Beginner?s Guide', 'Head First Java 2nd Edition'): 2, ('Android Programming: The Big Nerd Ranch', 'Beginning Programming with Java'): 3, ('Android Programming: The Big Nerd Ranch', 'Head First Java 2nd Edition'): 4, ('Android Programming: The Big Nerd Ranch', 'Java For Dummies'): 4, ('Android Programming: The Big Nerd Ranch', 'Java: The Complete Reference'): 3, ('Beginning Programming with Java', 'Head First Java 2nd Edition'): 3, ('Beginning Programming with Java', 'Java 8 Pocket Guide'): 2, ('Head First Java 2nd Edition', 'Java For Dummies'): 2, ('Java For Dummies', 'Java: The Complete Reference'): 4}\n",
      "Frequent Item set generated when k=3 =>  {(\"A Beginner's Guide\", 'Java For Dummies', 'Java: The Complete Reference'): 2, ('Android Programming: The Big Nerd Ranch', 'Beginning Programming with Java', 'Head First Java 2nd Edition'): 2, ('Android Programming: The Big Nerd Ranch', 'Head First Java 2nd Edition', 'Java For Dummies'): 2, ('Android Programming: The Big Nerd Ranch', 'Java For Dummies', 'Java: The Complete Reference'): 3}\n",
      "Frequent Item set generated when k=4 =>  {}\n"
     ]
    }
   ],
   "source": [
    "\n",
    "# For k=1 , the candidate_set C1 is calculated alongwith Item_set  L1 which is our desired output.\n",
    "\n",
    "def k_1(items, Minimum_Support):\n",
    "    candidate_set1 = {i:items.count(i) for i in items}\n",
    "    Item_set1 = {}\n",
    "    for key, value in candidate_set1.items():\n",
    "        if value >= Minimum_Support:\n",
    "           Item_set1[key] = value \n",
    "    \n",
    "    return candidate_set1, Item_set1\n",
    "\n",
    "# For k=2 , the candidate_set C2 is calculated alongwith Frequent Item_set  L2 which is calculated by comparing value with Minimum_Support .\n",
    "\n",
    "def k_2(Item_set1, Input_Data, Minimum_Support):\n",
    "    Item_set1 = sorted(list(Item_set1.keys()))\n",
    "    L1 = list(itertools.combinations(Item_set1, 2))\n",
    "    candidate_set2 = {}\n",
    "    Item_set2 = {}\n",
    "    for iter1 in L1:\n",
    "        count = 0\n",
    "        for iter2 in Input_Data:\n",
    "            if sublist(iter1, iter2):\n",
    "                count+=1\n",
    "        candidate_set2[iter1] = count\n",
    "    for key, value in candidate_set2.items():\n",
    "        if value >= Minimum_Support:\n",
    "            if check_subset_frequency(key, Item_set1, 1):  \n",
    "                Item_set2[key] = value \n",
    "    \n",
    "    return candidate_set2, Item_set2\n",
    "\n",
    "# For k=3 , the candidate_set C3 is calculated alongwith Frequent Item_set  L3 which is calculated by comparing value with Minimum_Support .   \n",
    "def k_3(Item_set2, Input_Data, Minimum_Support):\n",
    "    Item_set2 = list(Item_set2.keys())\n",
    "    L2 = sorted(list(set([item for t in Item_set2 for item in t])))\n",
    "    L2 = list(itertools.combinations(L2, 3))\n",
    "    candidate_set3 = {}\n",
    "    Item_set3 = {}\n",
    "    for iter1 in L2:\n",
    "        count = 0\n",
    "        for iter2 in Input_Data:\n",
    "            if sublist(iter1, iter2):\n",
    "                count+=1\n",
    "        candidate_set3[iter1] = count\n",
    "    for key, value in candidate_set3.items():\n",
    "        if value >= Minimum_Support:\n",
    "            if check_subset_frequency(key, Item_set2, 2):  \n",
    "                Item_set3[key] = value \n",
    "        \n",
    "    return candidate_set3, Item_set3\n",
    "\n",
    "# For k=4 , the candidate_set C4 is calculated alongwith Frequent Item_set  L4 which is calculated by comparing value with Minimum_Support . \n",
    "def k_4(Item_set3, Input_Data, Minimum_Support):\n",
    "    Item_set3 = list(Item_set3.keys())\n",
    "    L3 = sorted(list(set([item for t in Item_set3 for item in t])))\n",
    "    L3 = list(itertools.combinations(L3, 4))\n",
    "    candidate_set4 = {}\n",
    "    Item_set4 = {}\n",
    "    for iter1 in L3:\n",
    "        count = 0\n",
    "        for iter2 in Input_Data:\n",
    "            if sublist(iter1, iter2):\n",
    "                count+=1\n",
    "        candidate_set4[iter1] = count\n",
    "    for key, value in candidate_set4.items():\n",
    "        if value >= Minimum_Support:\n",
    "            if check_subset_frequency(key, Item_set3, 3):    \n",
    "                Item_set4[key] = value \n",
    "        \n",
    "    return candidate_set4, Item_set4\n",
    "\n",
    "def sublist(lst1, lst2):\n",
    "    return set(lst1) <= set(lst2)\n",
    "    \n",
    "def check_subset_frequency(itemset, l, n):\n",
    "    if n>1:    \n",
    "        subsets = list(itertools.combinations(itemset, n))\n",
    "    else:\n",
    "        subsets = itemset\n",
    "    for iter1 in subsets:\n",
    "        if not iter1 in l:\n",
    "            return False\n",
    "    return True\n",
    "\n",
    "\n",
    "candidate_set1, Item_set1 = k_1(items, Minimum_Support)\n",
    "candidate_set2, Item_set2 = k_2(Item_set1, Input_Data, Minimum_Support)\n",
    "candidate_set3, Item_set3 = k_3(Item_set2, Input_Data, Minimum_Support)\n",
    "candidate_set4, Item_set4 = k_4(Item_set3, Input_Data, Minimum_Support)\n",
    "print(\" \")\n",
    "print(\" \")\n",
    "print(\"Frequent Item set generated when k=1 => \", Item_set1)\n",
    "print(\"Frequent Item set generated when k=2 => \", Item_set2)\n",
    "print(\"Frequent Item set generated when k=3 => \", Item_set3)\n",
    "print(\"Frequent Item set generated when k=4 => \", Item_set4)\n",
    "\n",
    "\n",
    "itemlist = {**Item_set1, **Item_set2, **Item_set3, **Item_set4}\n",
    "\n"
   ]
  },
  {
   "cell_type": "markdown",
   "metadata": {
    "id": "bSygOFJzmFj8"
   },
   "source": [
    "**Calculating  the Association rules based on the confidence value.**"
   ]
  },
  {
   "cell_type": "code",
   "execution_count": 25,
   "metadata": {
    "colab": {
     "base_uri": "https://localhost:8080/"
    },
    "id": "X6J00YlClAyt",
    "outputId": "5dcc49db-3616-4783-c802-0fec93a79605"
   },
   "outputs": [
    {
     "name": "stdout",
     "output_type": "stream",
     "text": [
      " \n",
      " \n",
      "Association rules generated with their confidence value =>(\"A Beginner's Guide\", 'Java For Dummies')->{'Java: The Complete Reference'} =  100.0\n",
      " \n",
      " \n",
      "Association rules generated with their confidence value =>(\"A Beginner's Guide\", 'Java: The Complete Reference')->{'Java For Dummies'} =  100.0\n",
      " \n",
      " \n",
      "Association rules generated with their confidence value =>('Android Programming: The Big Nerd Ranch', 'Beginning Programming with Java')->{'Head First Java 2nd Edition'} =  66.66666666666666\n",
      " \n",
      " \n",
      "Association rules generated with their confidence value =>('Beginning Programming with Java', 'Head First Java 2nd Edition')->{'Android Programming: The Big Nerd Ranch'} =  66.66666666666666\n",
      " \n",
      " \n",
      "Association rules generated with their confidence value =>('Head First Java 2nd Edition', 'Java For Dummies')->{'Android Programming: The Big Nerd Ranch'} =  100.0\n",
      " \n",
      " \n",
      "Association rules generated with their confidence value =>('Android Programming: The Big Nerd Ranch', 'Java For Dummies')->{'Java: The Complete Reference'} =  75.0\n",
      " \n",
      " \n",
      "Association rules generated with their confidence value =>('Android Programming: The Big Nerd Ranch', 'Java: The Complete Reference')->{'Java For Dummies'} =  100.0\n",
      " \n",
      " \n",
      "Association rules generated with their confidence value =>('Java For Dummies', 'Java: The Complete Reference')->{'Android Programming: The Big Nerd Ranch'} =  75.0\n"
     ]
    }
   ],
   "source": [
    "def support_count(itemset, itemlist):\n",
    "    return itemlist[itemset]\n",
    "\n",
    "sets = []\n",
    "for iter1 in list(Item_set3.keys()):\n",
    "    subsets = list(itertools.combinations(iter1, 2))\n",
    "    sets.append(subsets)\n",
    "\n",
    "list_l3 = list(Item_set3.keys())\n",
    "for i in range(0, len(list_l3)):\n",
    "    for iter1 in sets[i]:\n",
    "        a = iter1\n",
    "        b = set(list_l3[i]) - set(iter1)\n",
    "        confidence = (support_count(list_l3[i], itemlist)/support_count(iter1, itemlist))*100\n",
    "        if(confidence >= Minimum_Confidence_value):\n",
    "          print(\" \")\n",
    "          print(\" \")\n",
    "          print(\"Association rules generated with their confidence value =>{}->{} = \".format(a,b), confidence)"
   ]
  },
  {
   "cell_type": "markdown",
   "metadata": {
    "id": "pbcMO9voqmnS"
   },
   "source": [
    "## **DATASET 2 -**"
   ]
  },
  {
   "cell_type": "markdown",
   "metadata": {
    "id": "wizAcyYkocts"
   },
   "source": [
    "**Uploading Dataset using filesystem. All Datasets are available in GitHub for convinience.**"
   ]
  },
  {
   "cell_type": "code",
   "execution_count": 26,
   "metadata": {
    "colab": {
     "base_uri": "https://localhost:8080/"
    },
    "id": "k7OthNajzYiX",
    "outputId": "41183a56-add5-4383-a228-bf3fab270957"
   },
   "outputs": [],
   "source": [
    "data=pd.read_csv(r\"C:\\Users\\HP\\OneDrive\\Desktop\\DATA_MINING_MIDTERM_PROJECT\\Dataset2.csv\")"
   ]
  },
  {
   "cell_type": "code",
   "execution_count": 27,
   "metadata": {
    "colab": {
     "base_uri": "https://localhost:8080/",
     "height": 203
    },
    "id": "_OvOMX4VYwis",
    "outputId": "e145c400-a159-467e-c555-82c75a5565ba"
   },
   "outputs": [
    {
     "data": {
      "text/html": [
       "<div>\n",
       "<style scoped>\n",
       "    .dataframe tbody tr th:only-of-type {\n",
       "        vertical-align: middle;\n",
       "    }\n",
       "\n",
       "    .dataframe tbody tr th {\n",
       "        vertical-align: top;\n",
       "    }\n",
       "\n",
       "    .dataframe thead th {\n",
       "        text-align: right;\n",
       "    }\n",
       "</style>\n",
       "<table border=\"1\" class=\"dataframe\">\n",
       "  <thead>\n",
       "    <tr style=\"text-align: right;\">\n",
       "      <th></th>\n",
       "      <th>Desk Top</th>\n",
       "      <th>Printer</th>\n",
       "      <th>Flash Drive</th>\n",
       "      <th>Microsoft Office</th>\n",
       "      <th>Speakers</th>\n",
       "      <th>Anti-Virus</th>\n",
       "      <th>Unnamed: 6</th>\n",
       "      <th>Unnamed: 7</th>\n",
       "      <th>Unnamed: 8</th>\n",
       "      <th>Unnamed: 9</th>\n",
       "    </tr>\n",
       "  </thead>\n",
       "  <tbody>\n",
       "    <tr>\n",
       "      <th>0</th>\n",
       "      <td>Lab Top</td>\n",
       "      <td>Flash Drive</td>\n",
       "      <td>Microsoft Office</td>\n",
       "      <td>Lab Top Case</td>\n",
       "      <td>Anti-Virus</td>\n",
       "      <td>NaN</td>\n",
       "      <td>NaN</td>\n",
       "      <td>NaN</td>\n",
       "      <td>NaN</td>\n",
       "      <td>NaN</td>\n",
       "    </tr>\n",
       "    <tr>\n",
       "      <th>1</th>\n",
       "      <td>Lab Top</td>\n",
       "      <td>Printer</td>\n",
       "      <td>Flash Drive</td>\n",
       "      <td>Microsoft Office</td>\n",
       "      <td>Anti-Virus</td>\n",
       "      <td>Lab Top Case</td>\n",
       "      <td>External Hard-Drive</td>\n",
       "      <td>NaN</td>\n",
       "      <td>NaN</td>\n",
       "      <td>NaN</td>\n",
       "    </tr>\n",
       "    <tr>\n",
       "      <th>2</th>\n",
       "      <td>Lab Top</td>\n",
       "      <td>Printer</td>\n",
       "      <td>Flash Drive</td>\n",
       "      <td>Anti-Virus</td>\n",
       "      <td>External Hard-Drive</td>\n",
       "      <td>Lab Top Case</td>\n",
       "      <td>NaN</td>\n",
       "      <td>NaN</td>\n",
       "      <td>NaN</td>\n",
       "      <td>NaN</td>\n",
       "    </tr>\n",
       "    <tr>\n",
       "      <th>3</th>\n",
       "      <td>Lab Top</td>\n",
       "      <td>Flash Drive</td>\n",
       "      <td>Lab Top Case</td>\n",
       "      <td>Anti-Virus</td>\n",
       "      <td>NaN</td>\n",
       "      <td>NaN</td>\n",
       "      <td>NaN</td>\n",
       "      <td>NaN</td>\n",
       "      <td>NaN</td>\n",
       "      <td>NaN</td>\n",
       "    </tr>\n",
       "    <tr>\n",
       "      <th>4</th>\n",
       "      <td>Lab Top</td>\n",
       "      <td>Printer</td>\n",
       "      <td>Flash Drive</td>\n",
       "      <td>Microsoft Office</td>\n",
       "      <td>NaN</td>\n",
       "      <td>NaN</td>\n",
       "      <td>NaN</td>\n",
       "      <td>NaN</td>\n",
       "      <td>NaN</td>\n",
       "      <td>NaN</td>\n",
       "    </tr>\n",
       "  </tbody>\n",
       "</table>\n",
       "</div>"
      ],
      "text/plain": [
       "  Desk Top      Printer       Flash Drive  Microsoft Office  \\\n",
       "0  Lab Top  Flash Drive  Microsoft Office      Lab Top Case   \n",
       "1  Lab Top      Printer       Flash Drive  Microsoft Office   \n",
       "2  Lab Top      Printer       Flash Drive        Anti-Virus   \n",
       "3  Lab Top  Flash Drive      Lab Top Case        Anti-Virus   \n",
       "4  Lab Top      Printer       Flash Drive  Microsoft Office   \n",
       "\n",
       "              Speakers    Anti-Virus           Unnamed: 6 Unnamed: 7  \\\n",
       "0           Anti-Virus           NaN                  NaN        NaN   \n",
       "1           Anti-Virus  Lab Top Case  External Hard-Drive        NaN   \n",
       "2  External Hard-Drive  Lab Top Case                  NaN        NaN   \n",
       "3                  NaN           NaN                  NaN        NaN   \n",
       "4                  NaN           NaN                  NaN        NaN   \n",
       "\n",
       "  Unnamed: 8 Unnamed: 9  \n",
       "0        NaN        NaN  \n",
       "1        NaN        NaN  \n",
       "2        NaN        NaN  \n",
       "3        NaN        NaN  \n",
       "4        NaN        NaN  "
      ]
     },
     "execution_count": 27,
     "metadata": {},
     "output_type": "execute_result"
    }
   ],
   "source": [
    "data.head()"
   ]
  },
  {
   "cell_type": "code",
   "execution_count": 28,
   "metadata": {
    "colab": {
     "base_uri": "https://localhost:8080/",
     "height": 203
    },
    "id": "_LbQtbSvYwNs",
    "outputId": "151fd16d-dbe0-47f9-fa71-6e3a2e590c98"
   },
   "outputs": [
    {
     "data": {
      "text/html": [
       "<div>\n",
       "<style scoped>\n",
       "    .dataframe tbody tr th:only-of-type {\n",
       "        vertical-align: middle;\n",
       "    }\n",
       "\n",
       "    .dataframe tbody tr th {\n",
       "        vertical-align: top;\n",
       "    }\n",
       "\n",
       "    .dataframe thead th {\n",
       "        text-align: right;\n",
       "    }\n",
       "</style>\n",
       "<table border=\"1\" class=\"dataframe\">\n",
       "  <thead>\n",
       "    <tr style=\"text-align: right;\">\n",
       "      <th></th>\n",
       "      <th>Desk Top</th>\n",
       "      <th>Printer</th>\n",
       "      <th>Flash Drive</th>\n",
       "      <th>Microsoft Office</th>\n",
       "      <th>Speakers</th>\n",
       "      <th>Anti-Virus</th>\n",
       "      <th>Unnamed: 6</th>\n",
       "      <th>Unnamed: 7</th>\n",
       "      <th>Unnamed: 8</th>\n",
       "      <th>Unnamed: 9</th>\n",
       "    </tr>\n",
       "  </thead>\n",
       "  <tbody>\n",
       "    <tr>\n",
       "      <th>14</th>\n",
       "      <td>Digital Camera</td>\n",
       "      <td>Flash Drive</td>\n",
       "      <td>Microsoft Office</td>\n",
       "      <td>Anti-Virus</td>\n",
       "      <td>Lab Top Case</td>\n",
       "      <td>External Hard-Drive</td>\n",
       "      <td>Speakers</td>\n",
       "      <td>NaN</td>\n",
       "      <td>NaN</td>\n",
       "      <td>NaN</td>\n",
       "    </tr>\n",
       "    <tr>\n",
       "      <th>15</th>\n",
       "      <td>Digital Camera</td>\n",
       "      <td>Lab Top</td>\n",
       "      <td>Lab Top Case</td>\n",
       "      <td>NaN</td>\n",
       "      <td>NaN</td>\n",
       "      <td>NaN</td>\n",
       "      <td>NaN</td>\n",
       "      <td>NaN</td>\n",
       "      <td>NaN</td>\n",
       "      <td>NaN</td>\n",
       "    </tr>\n",
       "    <tr>\n",
       "      <th>16</th>\n",
       "      <td>Digital Camera</td>\n",
       "      <td>Lab Top Case</td>\n",
       "      <td>Speakers</td>\n",
       "      <td>NaN</td>\n",
       "      <td>NaN</td>\n",
       "      <td>NaN</td>\n",
       "      <td>NaN</td>\n",
       "      <td>NaN</td>\n",
       "      <td>NaN</td>\n",
       "      <td>NaN</td>\n",
       "    </tr>\n",
       "    <tr>\n",
       "      <th>17</th>\n",
       "      <td>Digital Camera</td>\n",
       "      <td>Lab Top</td>\n",
       "      <td>Printer</td>\n",
       "      <td>Flash Drive</td>\n",
       "      <td>Microsoft Office</td>\n",
       "      <td>Speakers</td>\n",
       "      <td>Lab Top Case</td>\n",
       "      <td>Anti-Virus</td>\n",
       "      <td>NaN</td>\n",
       "      <td>NaN</td>\n",
       "    </tr>\n",
       "    <tr>\n",
       "      <th>18</th>\n",
       "      <td>Digital Camera</td>\n",
       "      <td>Lab Top</td>\n",
       "      <td>Speakers</td>\n",
       "      <td>Anti-Virus</td>\n",
       "      <td>Lab Top Case</td>\n",
       "      <td>NaN</td>\n",
       "      <td>NaN</td>\n",
       "      <td>NaN</td>\n",
       "      <td>NaN</td>\n",
       "      <td>NaN</td>\n",
       "    </tr>\n",
       "  </tbody>\n",
       "</table>\n",
       "</div>"
      ],
      "text/plain": [
       "          Desk Top       Printer       Flash Drive Microsoft Office  \\\n",
       "14  Digital Camera   Flash Drive  Microsoft Office       Anti-Virus   \n",
       "15  Digital Camera       Lab Top      Lab Top Case              NaN   \n",
       "16  Digital Camera  Lab Top Case          Speakers              NaN   \n",
       "17  Digital Camera       Lab Top           Printer      Flash Drive   \n",
       "18  Digital Camera       Lab Top          Speakers       Anti-Virus   \n",
       "\n",
       "            Speakers           Anti-Virus    Unnamed: 6  Unnamed: 7  \\\n",
       "14      Lab Top Case  External Hard-Drive      Speakers         NaN   \n",
       "15               NaN                  NaN           NaN         NaN   \n",
       "16               NaN                  NaN           NaN         NaN   \n",
       "17  Microsoft Office             Speakers  Lab Top Case  Anti-Virus   \n",
       "18      Lab Top Case                  NaN           NaN         NaN   \n",
       "\n",
       "   Unnamed: 8 Unnamed: 9  \n",
       "14        NaN        NaN  \n",
       "15        NaN        NaN  \n",
       "16        NaN        NaN  \n",
       "17        NaN        NaN  \n",
       "18        NaN        NaN  "
      ]
     },
     "execution_count": 28,
     "metadata": {},
     "output_type": "execute_result"
    }
   ],
   "source": [
    "data.tail()"
   ]
  },
  {
   "cell_type": "markdown",
   "metadata": {
    "id": "LIISzHd1o6_z"
   },
   "source": [
    "**Getting input from the user for the following :**\n",
    "\n",
    "**1.Number of Transactions (Max possible value = 20)**\n",
    "\n",
    "**2.Maximum items per transactions (Max possible value = 5)**\n",
    "\n",
    "**3.Minimum value of support (Min possible value = 20)**\n",
    "\n",
    "**4.Minimum confidence value (Maximum possible value =100)**"
   ]
  },
  {
   "cell_type": "code",
   "execution_count": 29,
   "metadata": {
    "colab": {
     "base_uri": "https://localhost:8080/"
    },
    "id": "OtyJqbnvqTUv",
    "outputId": "8b691297-c227-49f7-f745-4652702f8855"
   },
   "outputs": [
    {
     "name": "stdout",
     "output_type": "stream",
     "text": [
      "Number of transactions as per database : 10\n",
      "Maximum items in each transaction as per database : 5\n",
      "Minimum support value : 20\n",
      "Minimum_Confidence_value : 60\n"
     ]
    }
   ],
   "source": [
    "No_of_Transactions=int(input(\"Number of transactions as per database : \"))\n",
    "Maximum_Items=int(input(\"Maximum items in each transaction as per database : \"))\n",
    "\n",
    "minimum_support_count=float(input(\"Minimum support value : \"))\n",
    "Minimum_Support= (minimum_support_count/100)*No_of_Transactions\n",
    "\n",
    "Minimum_Confidence_value=float(input(\"Minimum_Confidence_value : \"))"
   ]
  },
  {
   "cell_type": "markdown",
   "metadata": {
    "id": "h0qMa7vmqgPi"
   },
   "source": [
    "**Data processing to create the required records and item-list for further processing.**"
   ]
  },
  {
   "cell_type": "code",
   "execution_count": 30,
   "metadata": {
    "colab": {
     "base_uri": "https://localhost:8080/"
    },
    "id": "XcNreCLIq6Tu",
    "outputId": "8325e85b-97f5-47c8-e7c6-4f6cace3d577"
   },
   "outputs": [
    {
     "name": "stdout",
     "output_type": "stream",
     "text": [
      "Input Transactions :  [['Lab Top', 'Flash Drive', 'Microsoft Office', 'Lab Top Case', 'Anti-Virus'], ['Lab Top', 'Printer', 'Flash Drive', 'Microsoft Office', 'Anti-Virus'], ['Lab Top', 'Printer', 'Flash Drive', 'Anti-Virus', 'External Hard-Drive'], ['Lab Top', 'Flash Drive', 'Lab Top Case', 'Anti-Virus', 'nan'], ['Lab Top', 'Printer', 'Flash Drive', 'Microsoft Office', 'nan'], ['Desk Top', 'Printer', 'Flash Drive', 'Microsoft Office', 'nan'], ['Lab Top', 'External Hard-Drive', 'Anti-Virus', 'nan', 'nan'], ['Lab Top', 'Printer', 'Flash Drive', 'Microsoft Office', 'Lab Top Case'], ['Digital Camera', 'Lab Top', 'Desk Top', 'Printer', 'Flash Drive'], ['Lab Top', 'Desk Top', 'Lab Top Case', 'External Hard-Drive', 'Speakers']]\n"
     ]
    }
   ],
   "source": [
    "Input_Data = []\n",
    "for i in range(0, No_of_Transactions):\n",
    "    Input_Data.append([str(data.values[i,j]) for j in range(0, Maximum_Items)])\n",
    "\n",
    "print(\"Input Transactions : \", Input_Data)\n",
    "items = sorted([item for sublist in Input_Data for item in sublist if item != 'nan'])"
   ]
  },
  {
   "cell_type": "markdown",
   "metadata": {
    "id": "98cMz6sUrEk_"
   },
   "source": [
    "**For k=1 to 4 , candidate_set and the frequent ItemSet are calculated by comparing the support count of each item in the list to the Minimum Support value. We check  if all the subsets in itemset are frequent using the check subset frequency function and if not, we remove respective itemset from the list by comparing the length of the two possible lists using the sublist function.**\n",
    "\n",
    "**We are printing all the Item_Sets generated after calculations.**"
   ]
  },
  {
   "cell_type": "code",
   "execution_count": 31,
   "metadata": {
    "colab": {
     "base_uri": "https://localhost:8080/"
    },
    "id": "GPCl5JXpzZrg",
    "outputId": "60f51dae-9cd3-480a-8c7f-c7105c448e58"
   },
   "outputs": [
    {
     "name": "stdout",
     "output_type": "stream",
     "text": [
      " \n",
      " \n",
      "Frequent Item set generated when k=1 =>  {'Anti-Virus': 5, 'Desk Top': 3, 'External Hard-Drive': 3, 'Flash Drive': 8, 'Lab Top': 9, 'Lab Top Case': 4, 'Microsoft Office': 5, 'Printer': 6}\n",
      "Frequent Item set generated when k=2 =>  {('Anti-Virus', 'External Hard-Drive'): 2, ('Anti-Virus', 'Flash Drive'): 4, ('Anti-Virus', 'Lab Top'): 5, ('Anti-Virus', 'Lab Top Case'): 2, ('Anti-Virus', 'Microsoft Office'): 2, ('Anti-Virus', 'Printer'): 2, ('Desk Top', 'Flash Drive'): 2, ('Desk Top', 'Lab Top'): 2, ('Desk Top', 'Printer'): 2, ('External Hard-Drive', 'Lab Top'): 3, ('Flash Drive', 'Lab Top'): 7, ('Flash Drive', 'Lab Top Case'): 3, ('Flash Drive', 'Microsoft Office'): 5, ('Flash Drive', 'Printer'): 6, ('Lab Top', 'Lab Top Case'): 4, ('Lab Top', 'Microsoft Office'): 4, ('Lab Top', 'Printer'): 5, ('Lab Top Case', 'Microsoft Office'): 2, ('Microsoft Office', 'Printer'): 4}\n",
      "Frequent Item set generated when k=3 =>  {('Anti-Virus', 'External Hard-Drive', 'Lab Top'): 2, ('Anti-Virus', 'Flash Drive', 'Lab Top'): 4, ('Anti-Virus', 'Flash Drive', 'Lab Top Case'): 2, ('Anti-Virus', 'Flash Drive', 'Microsoft Office'): 2, ('Anti-Virus', 'Flash Drive', 'Printer'): 2, ('Anti-Virus', 'Lab Top', 'Lab Top Case'): 2, ('Anti-Virus', 'Lab Top', 'Microsoft Office'): 2, ('Anti-Virus', 'Lab Top', 'Printer'): 2, ('Desk Top', 'Flash Drive', 'Printer'): 2, ('Flash Drive', 'Lab Top', 'Lab Top Case'): 3, ('Flash Drive', 'Lab Top', 'Microsoft Office'): 4, ('Flash Drive', 'Lab Top', 'Printer'): 5, ('Flash Drive', 'Lab Top Case', 'Microsoft Office'): 2, ('Flash Drive', 'Microsoft Office', 'Printer'): 4, ('Lab Top', 'Lab Top Case', 'Microsoft Office'): 2, ('Lab Top', 'Microsoft Office', 'Printer'): 3}\n",
      "Frequent Item set generated when k=4 =>  {('Anti-Virus', 'Flash Drive', 'Lab Top', 'Lab Top Case'): 2, ('Anti-Virus', 'Flash Drive', 'Lab Top', 'Microsoft Office'): 2, ('Anti-Virus', 'Flash Drive', 'Lab Top', 'Printer'): 2, ('Flash Drive', 'Lab Top', 'Lab Top Case', 'Microsoft Office'): 2, ('Flash Drive', 'Lab Top', 'Microsoft Office', 'Printer'): 3}\n"
     ]
    }
   ],
   "source": [
    "# For k=1 , the candidate_set C1 is calculated alongwith Item_set  L1 which is our desired output.\n",
    "\n",
    "def k_1(items, Minimum_Support):\n",
    "    candidate_set1 = {i:items.count(i) for i in items}\n",
    "    Item_set1 = {}\n",
    "    for key, value in candidate_set1.items():\n",
    "        if value >= Minimum_Support:\n",
    "           Item_set1[key] = value \n",
    "    \n",
    "    return candidate_set1, Item_set1\n",
    "\n",
    "# For k=2 , the candidate_set C2 is calculated alongwith Frequent Item_set  L2 which is calculated by comparing value with Minimum_Support .\n",
    "\n",
    "def k_2(Item_set1, Input_Data, Minimum_Support):\n",
    "    Item_set1 = sorted(list(Item_set1.keys()))\n",
    "    L1 = list(itertools.combinations(Item_set1, 2))\n",
    "    candidate_set2 = {}\n",
    "    Item_set2 = {}\n",
    "    for iter1 in L1:\n",
    "        count = 0\n",
    "        for iter2 in Input_Data:\n",
    "            if sublist(iter1, iter2):\n",
    "                count+=1\n",
    "        candidate_set2[iter1] = count\n",
    "    for key, value in candidate_set2.items():\n",
    "        if value >= Minimum_Support:\n",
    "            if check_subset_frequency(key, Item_set1, 1):  \n",
    "                Item_set2[key] = value \n",
    "    \n",
    "    return candidate_set2, Item_set2\n",
    "\n",
    "# For k=3 , the candidate_set C3 is calculated alongwith Frequent Item_set  L3 which is calculated by comparing value with Minimum_Support .   \n",
    "def k_3(Item_set2, Input_Data, Minimum_Support):\n",
    "    Item_set2 = list(Item_set2.keys())\n",
    "    L2 = sorted(list(set([item for t in Item_set2 for item in t])))\n",
    "    L2 = list(itertools.combinations(L2, 3))\n",
    "    candidate_set3 = {}\n",
    "    Item_set3 = {}\n",
    "    for iter1 in L2:\n",
    "        count = 0\n",
    "        for iter2 in Input_Data:\n",
    "            if sublist(iter1, iter2):\n",
    "                count+=1\n",
    "        candidate_set3[iter1] = count\n",
    "    for key, value in candidate_set3.items():\n",
    "        if value >= Minimum_Support:\n",
    "            if check_subset_frequency(key, Item_set2, 2):  \n",
    "                Item_set3[key] = value \n",
    "        \n",
    "    return candidate_set3, Item_set3\n",
    "\n",
    "# For k=4 , the candidate_set C4 is calculated alongwith Frequent Item_set  L4 which is calculated by comparing value with Minimum_Support . \n",
    "def k_4(Item_set3, Input_Data, Minimum_Support):\n",
    "    Item_set3 = list(Item_set3.keys())\n",
    "    L3 = sorted(list(set([item for t in Item_set3 for item in t])))\n",
    "    L3 = list(itertools.combinations(L3, 4))\n",
    "    candidate_set4 = {}\n",
    "    Item_set4 = {}\n",
    "    for iter1 in L3:\n",
    "        count = 0\n",
    "        for iter2 in Input_Data:\n",
    "            if sublist(iter1, iter2):\n",
    "                count+=1\n",
    "        candidate_set4[iter1] = count\n",
    "    for key, value in candidate_set4.items():\n",
    "        if value >= Minimum_Support:\n",
    "            if check_subset_frequency(key, Item_set3, 3):    \n",
    "                Item_set4[key] = value \n",
    "        \n",
    "    return candidate_set4, Item_set4\n",
    "\n",
    "def sublist(lst1, lst2):\n",
    "    return set(lst1) <= set(lst2)\n",
    "    \n",
    "def check_subset_frequency(itemset, l, n):\n",
    "    if n>1:    \n",
    "        subsets = list(itertools.combinations(itemset, n))\n",
    "    else:\n",
    "        subsets = itemset\n",
    "    for iter1 in subsets:\n",
    "        if not iter1 in l:\n",
    "            return False\n",
    "    return True\n",
    "\n",
    "\n",
    "candidate_set1, Item_set1 = k_1(items, Minimum_Support)\n",
    "candidate_set2, Item_set2 = k_2(Item_set1, Input_Data, Minimum_Support)\n",
    "candidate_set3, Item_set3 = k_3(Item_set2, Input_Data, Minimum_Support)\n",
    "candidate_set4, Item_set4 = k_4(Item_set3, Input_Data, Minimum_Support)\n",
    "print(\" \")\n",
    "print(\" \")\n",
    "print(\"Frequent Item set generated when k=1 => \", Item_set1)\n",
    "print(\"Frequent Item set generated when k=2 => \", Item_set2)\n",
    "print(\"Frequent Item set generated when k=3 => \", Item_set3)\n",
    "print(\"Frequent Item set generated when k=4 => \", Item_set4)\n",
    "\n",
    "\n",
    "itemlist = {**Item_set1, **Item_set2, **Item_set3, **Item_set4}\n"
   ]
  },
  {
   "cell_type": "markdown",
   "metadata": {
    "id": "GwTZR2A_rZxq"
   },
   "source": [
    "**Calculating  the Association rules based on the confidence value.**"
   ]
  },
  {
   "cell_type": "code",
   "execution_count": 32,
   "metadata": {
    "colab": {
     "base_uri": "https://localhost:8080/"
    },
    "id": "wvKvfmBCrkN4",
    "outputId": "846383d0-54e9-4183-e5e9-e30f85aa47e4"
   },
   "outputs": [
    {
     "name": "stdout",
     "output_type": "stream",
     "text": [
      " \n",
      " \n",
      "Association rules generated with their confidence value =>('Anti-Virus', 'External Hard-Drive')->{'Lab Top'} =  100.0\n",
      " \n",
      " \n",
      "Association rules generated with their confidence value =>('External Hard-Drive', 'Lab Top')->{'Anti-Virus'} =  66.66666666666666\n",
      " \n",
      " \n",
      "Association rules generated with their confidence value =>('Anti-Virus', 'Flash Drive')->{'Lab Top'} =  100.0\n",
      " \n",
      " \n",
      "Association rules generated with their confidence value =>('Anti-Virus', 'Lab Top')->{'Flash Drive'} =  80.0\n",
      " \n",
      " \n",
      "Association rules generated with their confidence value =>('Anti-Virus', 'Lab Top Case')->{'Flash Drive'} =  100.0\n",
      " \n",
      " \n",
      "Association rules generated with their confidence value =>('Flash Drive', 'Lab Top Case')->{'Anti-Virus'} =  66.66666666666666\n",
      " \n",
      " \n",
      "Association rules generated with their confidence value =>('Anti-Virus', 'Microsoft Office')->{'Flash Drive'} =  100.0\n",
      " \n",
      " \n",
      "Association rules generated with their confidence value =>('Anti-Virus', 'Printer')->{'Flash Drive'} =  100.0\n",
      " \n",
      " \n",
      "Association rules generated with their confidence value =>('Anti-Virus', 'Lab Top Case')->{'Lab Top'} =  100.0\n",
      " \n",
      " \n",
      "Association rules generated with their confidence value =>('Anti-Virus', 'Microsoft Office')->{'Lab Top'} =  100.0\n",
      " \n",
      " \n",
      "Association rules generated with their confidence value =>('Anti-Virus', 'Printer')->{'Lab Top'} =  100.0\n",
      " \n",
      " \n",
      "Association rules generated with their confidence value =>('Desk Top', 'Flash Drive')->{'Printer'} =  100.0\n",
      " \n",
      " \n",
      "Association rules generated with their confidence value =>('Desk Top', 'Printer')->{'Flash Drive'} =  100.0\n",
      " \n",
      " \n",
      "Association rules generated with their confidence value =>('Flash Drive', 'Lab Top Case')->{'Lab Top'} =  100.0\n",
      " \n",
      " \n",
      "Association rules generated with their confidence value =>('Lab Top', 'Lab Top Case')->{'Flash Drive'} =  75.0\n",
      " \n",
      " \n",
      "Association rules generated with their confidence value =>('Flash Drive', 'Microsoft Office')->{'Lab Top'} =  80.0\n",
      " \n",
      " \n",
      "Association rules generated with their confidence value =>('Lab Top', 'Microsoft Office')->{'Flash Drive'} =  100.0\n",
      " \n",
      " \n",
      "Association rules generated with their confidence value =>('Flash Drive', 'Lab Top')->{'Printer'} =  71.42857142857143\n",
      " \n",
      " \n",
      "Association rules generated with their confidence value =>('Flash Drive', 'Printer')->{'Lab Top'} =  83.33333333333334\n",
      " \n",
      " \n",
      "Association rules generated with their confidence value =>('Lab Top', 'Printer')->{'Flash Drive'} =  100.0\n",
      " \n",
      " \n",
      "Association rules generated with their confidence value =>('Flash Drive', 'Lab Top Case')->{'Microsoft Office'} =  66.66666666666666\n",
      " \n",
      " \n",
      "Association rules generated with their confidence value =>('Lab Top Case', 'Microsoft Office')->{'Flash Drive'} =  100.0\n",
      " \n",
      " \n",
      "Association rules generated with their confidence value =>('Flash Drive', 'Microsoft Office')->{'Printer'} =  80.0\n",
      " \n",
      " \n",
      "Association rules generated with their confidence value =>('Flash Drive', 'Printer')->{'Microsoft Office'} =  66.66666666666666\n",
      " \n",
      " \n",
      "Association rules generated with their confidence value =>('Microsoft Office', 'Printer')->{'Flash Drive'} =  100.0\n",
      " \n",
      " \n",
      "Association rules generated with their confidence value =>('Lab Top Case', 'Microsoft Office')->{'Lab Top'} =  100.0\n",
      " \n",
      " \n",
      "Association rules generated with their confidence value =>('Lab Top', 'Microsoft Office')->{'Printer'} =  75.0\n",
      " \n",
      " \n",
      "Association rules generated with their confidence value =>('Lab Top', 'Printer')->{'Microsoft Office'} =  60.0\n",
      " \n",
      " \n",
      "Association rules generated with their confidence value =>('Microsoft Office', 'Printer')->{'Lab Top'} =  75.0\n"
     ]
    }
   ],
   "source": [
    "def support_count(itemset, itemlist):\n",
    "    return itemlist[itemset]\n",
    "\n",
    "sets = []\n",
    "for iter1 in list(Item_set3.keys()):\n",
    "    subsets = list(itertools.combinations(iter1, 2))\n",
    "    sets.append(subsets)\n",
    "\n",
    "list_l3 = list(Item_set3.keys())\n",
    "for i in range(0, len(list_l3)):\n",
    "    for iter1 in sets[i]:\n",
    "        a = iter1\n",
    "        b = set(list_l3[i]) - set(iter1)\n",
    "        confidence = (support_count(list_l3[i], itemlist)/support_count(iter1, itemlist))*100\n",
    "        if(confidence >= Minimum_Confidence_value):\n",
    "          print(\" \")\n",
    "          print(\" \")\n",
    "          print(\"Association rules generated with their confidence value =>{}->{} = \".format(a,b), confidence)"
   ]
  },
  {
   "cell_type": "markdown",
   "metadata": {
    "id": "ErbbAvHTrnM6"
   },
   "source": [
    "## **DATASET 3 -**"
   ]
  },
  {
   "cell_type": "markdown",
   "metadata": {
    "id": "PRpMCMu8ogv-"
   },
   "source": [
    "**Uploading Dataset using filesystem. All Datasets are available in GitHub for convinience.**"
   ]
  },
  {
   "cell_type": "code",
   "execution_count": 33,
   "metadata": {
    "colab": {
     "base_uri": "https://localhost:8080/"
    },
    "id": "AykON2xlzoXu",
    "outputId": "2ef701d2-d36d-4882-e165-a25230a67dbd"
   },
   "outputs": [],
   "source": [
    "data=pd.read_csv(r\"C:\\Users\\HP\\OneDrive\\Desktop\\DATA_MINING_MIDTERM_PROJECT\\Dataset3.csv\")"
   ]
  },
  {
   "cell_type": "code",
   "execution_count": 34,
   "metadata": {
    "colab": {
     "base_uri": "https://localhost:8080/",
     "height": 203
    },
    "id": "-fL39_rbY_DU",
    "outputId": "0fdd5e66-f90b-4068-e64f-048bd160804e"
   },
   "outputs": [
    {
     "data": {
      "text/html": [
       "<div>\n",
       "<style scoped>\n",
       "    .dataframe tbody tr th:only-of-type {\n",
       "        vertical-align: middle;\n",
       "    }\n",
       "\n",
       "    .dataframe tbody tr th {\n",
       "        vertical-align: top;\n",
       "    }\n",
       "\n",
       "    .dataframe thead th {\n",
       "        text-align: right;\n",
       "    }\n",
       "</style>\n",
       "<table border=\"1\" class=\"dataframe\">\n",
       "  <thead>\n",
       "    <tr style=\"text-align: right;\">\n",
       "      <th></th>\n",
       "      <th>Decorative Pillows</th>\n",
       "      <th>Quilts</th>\n",
       "      <th>Embroidered Bedspread</th>\n",
       "      <th>Unnamed: 3</th>\n",
       "      <th>Unnamed: 4</th>\n",
       "      <th>Unnamed: 5</th>\n",
       "      <th>Unnamed: 6</th>\n",
       "    </tr>\n",
       "  </thead>\n",
       "  <tbody>\n",
       "    <tr>\n",
       "      <th>0</th>\n",
       "      <td>Embroidered Bedspread</td>\n",
       "      <td>Shams</td>\n",
       "      <td>Kids Bedding</td>\n",
       "      <td>Bedding Collections</td>\n",
       "      <td>Bed Skirts</td>\n",
       "      <td>Bedspreads</td>\n",
       "      <td>Sheets</td>\n",
       "    </tr>\n",
       "    <tr>\n",
       "      <th>1</th>\n",
       "      <td>Decorative Pillows</td>\n",
       "      <td>Quilts</td>\n",
       "      <td>Embroidered Bedspread</td>\n",
       "      <td>Shams</td>\n",
       "      <td>Kids Bedding</td>\n",
       "      <td>Bedding Collections</td>\n",
       "      <td>NaN</td>\n",
       "    </tr>\n",
       "    <tr>\n",
       "      <th>2</th>\n",
       "      <td>Kid Bedding</td>\n",
       "      <td>Bedding Collections</td>\n",
       "      <td>Sheets</td>\n",
       "      <td>Bedspreads</td>\n",
       "      <td>Bed Skirts</td>\n",
       "      <td>NaN</td>\n",
       "      <td>NaN</td>\n",
       "    </tr>\n",
       "    <tr>\n",
       "      <th>3</th>\n",
       "      <td>Decorative Pillows</td>\n",
       "      <td>Kids Bedding</td>\n",
       "      <td>Bedding Collections</td>\n",
       "      <td>Sheets</td>\n",
       "      <td>Bed Skirts</td>\n",
       "      <td>Bedspreads</td>\n",
       "      <td>NaN</td>\n",
       "    </tr>\n",
       "    <tr>\n",
       "      <th>4</th>\n",
       "      <td>Bedding Collections</td>\n",
       "      <td>Bedspreads</td>\n",
       "      <td>Bed Skirts</td>\n",
       "      <td>Sheets</td>\n",
       "      <td>Shams</td>\n",
       "      <td>Kids Bedding</td>\n",
       "      <td>NaN</td>\n",
       "    </tr>\n",
       "  </tbody>\n",
       "</table>\n",
       "</div>"
      ],
      "text/plain": [
       "      Decorative Pillows               Quilts  Embroidered Bedspread  \\\n",
       "0  Embroidered Bedspread                Shams           Kids Bedding   \n",
       "1     Decorative Pillows               Quilts  Embroidered Bedspread   \n",
       "2            Kid Bedding  Bedding Collections                 Sheets   \n",
       "3     Decorative Pillows         Kids Bedding    Bedding Collections   \n",
       "4    Bedding Collections           Bedspreads             Bed Skirts   \n",
       "\n",
       "            Unnamed: 3    Unnamed: 4           Unnamed: 5 Unnamed: 6  \n",
       "0  Bedding Collections    Bed Skirts           Bedspreads     Sheets  \n",
       "1                Shams  Kids Bedding  Bedding Collections        NaN  \n",
       "2           Bedspreads    Bed Skirts                  NaN        NaN  \n",
       "3               Sheets    Bed Skirts           Bedspreads        NaN  \n",
       "4               Sheets         Shams         Kids Bedding        NaN  "
      ]
     },
     "execution_count": 34,
     "metadata": {},
     "output_type": "execute_result"
    }
   ],
   "source": [
    "data.head()"
   ]
  },
  {
   "cell_type": "code",
   "execution_count": 35,
   "metadata": {
    "colab": {
     "base_uri": "https://localhost:8080/",
     "height": 203
    },
    "id": "_DxsDqzUZCf9",
    "outputId": "2ec5238d-c687-43a1-bb37-8005b947635d"
   },
   "outputs": [
    {
     "data": {
      "text/html": [
       "<div>\n",
       "<style scoped>\n",
       "    .dataframe tbody tr th:only-of-type {\n",
       "        vertical-align: middle;\n",
       "    }\n",
       "\n",
       "    .dataframe tbody tr th {\n",
       "        vertical-align: top;\n",
       "    }\n",
       "\n",
       "    .dataframe thead th {\n",
       "        text-align: right;\n",
       "    }\n",
       "</style>\n",
       "<table border=\"1\" class=\"dataframe\">\n",
       "  <thead>\n",
       "    <tr style=\"text-align: right;\">\n",
       "      <th></th>\n",
       "      <th>Decorative Pillows</th>\n",
       "      <th>Quilts</th>\n",
       "      <th>Embroidered Bedspread</th>\n",
       "      <th>Unnamed: 3</th>\n",
       "      <th>Unnamed: 4</th>\n",
       "      <th>Unnamed: 5</th>\n",
       "      <th>Unnamed: 6</th>\n",
       "    </tr>\n",
       "  </thead>\n",
       "  <tbody>\n",
       "    <tr>\n",
       "      <th>14</th>\n",
       "      <td>Decorative Pillows</td>\n",
       "      <td>Kids Bedding</td>\n",
       "      <td>Bed Skirts</td>\n",
       "      <td>Shams</td>\n",
       "      <td>NaN</td>\n",
       "      <td>NaN</td>\n",
       "      <td>NaN</td>\n",
       "    </tr>\n",
       "    <tr>\n",
       "      <th>15</th>\n",
       "      <td>Decorative Pillows</td>\n",
       "      <td>Shams</td>\n",
       "      <td>Bed Skirts</td>\n",
       "      <td>NaN</td>\n",
       "      <td>NaN</td>\n",
       "      <td>NaN</td>\n",
       "      <td>NaN</td>\n",
       "    </tr>\n",
       "    <tr>\n",
       "      <th>16</th>\n",
       "      <td>Quilts</td>\n",
       "      <td>Sheets</td>\n",
       "      <td>Kids Bedding</td>\n",
       "      <td>NaN</td>\n",
       "      <td>NaN</td>\n",
       "      <td>NaN</td>\n",
       "      <td>NaN</td>\n",
       "    </tr>\n",
       "    <tr>\n",
       "      <th>17</th>\n",
       "      <td>Shams</td>\n",
       "      <td>Bed Skirts</td>\n",
       "      <td>Kids Bedding</td>\n",
       "      <td>Sheets</td>\n",
       "      <td>NaN</td>\n",
       "      <td>NaN</td>\n",
       "      <td>NaN</td>\n",
       "    </tr>\n",
       "    <tr>\n",
       "      <th>18</th>\n",
       "      <td>Decorative Pillows</td>\n",
       "      <td>Bedspreads</td>\n",
       "      <td>Shams</td>\n",
       "      <td>Sheets</td>\n",
       "      <td>Bed Skirts</td>\n",
       "      <td>Kids Bedding</td>\n",
       "      <td>NaN</td>\n",
       "    </tr>\n",
       "  </tbody>\n",
       "</table>\n",
       "</div>"
      ],
      "text/plain": [
       "    Decorative Pillows        Quilts Embroidered Bedspread Unnamed: 3  \\\n",
       "14  Decorative Pillows  Kids Bedding            Bed Skirts      Shams   \n",
       "15  Decorative Pillows         Shams            Bed Skirts        NaN   \n",
       "16              Quilts        Sheets          Kids Bedding        NaN   \n",
       "17               Shams    Bed Skirts          Kids Bedding     Sheets   \n",
       "18  Decorative Pillows    Bedspreads                 Shams     Sheets   \n",
       "\n",
       "    Unnamed: 4    Unnamed: 5 Unnamed: 6  \n",
       "14         NaN           NaN        NaN  \n",
       "15         NaN           NaN        NaN  \n",
       "16         NaN           NaN        NaN  \n",
       "17         NaN           NaN        NaN  \n",
       "18  Bed Skirts  Kids Bedding        NaN  "
      ]
     },
     "execution_count": 35,
     "metadata": {},
     "output_type": "execute_result"
    }
   ],
   "source": [
    "data.tail()"
   ]
  },
  {
   "cell_type": "markdown",
   "metadata": {
    "id": "NVJ99UsypADd"
   },
   "source": [
    "**Getting input from the user for the following :**\n",
    "\n",
    "**1.Number of Transactions (Max possible value = 20)**\n",
    "\n",
    "**2.Maximum items per transactions (Max possible value = 5)**\n",
    "\n",
    "**3.Minimum value of support (Min possible value = 20)**\n",
    "\n",
    "**4.Minimum confidence value (Maximum possible value =100)**"
   ]
  },
  {
   "cell_type": "code",
   "execution_count": 36,
   "metadata": {
    "colab": {
     "base_uri": "https://localhost:8080/"
    },
    "id": "Txr91Ik2safP",
    "outputId": "42987ce5-1df2-468d-dbb1-151f612047ad"
   },
   "outputs": [
    {
     "name": "stdout",
     "output_type": "stream",
     "text": [
      "Number of transactions as per database : 10\n",
      "Maximum items in each transaction as per database : 5\n",
      "Minimum support value : 20\n",
      "Minimum_Confidence_value : 60\n"
     ]
    }
   ],
   "source": [
    "No_of_Transactions=int(input(\"Number of transactions as per database : \"))\n",
    "Maximum_Items=int(input(\"Maximum items in each transaction as per database : \"))\n",
    "\n",
    "minimum_support_count=float(input(\"Minimum support value : \"))\n",
    "Minimum_Support= (minimum_support_count/100)*No_of_Transactions\n",
    "\n",
    "Minimum_Confidence_value=float(input(\"Minimum_Confidence_value : \"))"
   ]
  },
  {
   "cell_type": "markdown",
   "metadata": {
    "id": "ngy7MwRbsg7e"
   },
   "source": [
    "**Data processing to create the required records and item-list for further processing.**"
   ]
  },
  {
   "cell_type": "code",
   "execution_count": 37,
   "metadata": {
    "colab": {
     "base_uri": "https://localhost:8080/"
    },
    "id": "yJjcyroDsm41",
    "outputId": "07705d29-74dc-492a-bdbd-cef2dcf1268e"
   },
   "outputs": [
    {
     "name": "stdout",
     "output_type": "stream",
     "text": [
      "Input Transactions :  [['Embroidered Bedspread', 'Shams', 'Kids Bedding', 'Bedding Collections', 'Bed Skirts'], ['Decorative Pillows', 'Quilts', 'Embroidered Bedspread', 'Shams', 'Kids Bedding'], ['Kid Bedding', 'Bedding Collections', 'Sheets', 'Bedspreads', 'Bed Skirts'], ['Decorative Pillows', 'Kids Bedding', 'Bedding Collections', 'Sheets', 'Bed Skirts'], ['Bedding Collections', 'Bedspreads', 'Bed Skirts', 'Sheets', 'Shams'], ['Decorative Pillows', 'Quilts', 'nan', 'nan', 'nan'], ['Decorative Pillows', 'Quilts', 'Embroidered Bedspread', 'nan', 'nan'], ['Bedspreads', 'Bed Skirts', 'Shams', 'Kids Bedding', 'Sheets'], ['Quilts', 'Embroidered Bedspread', 'Bedding Collections', 'nan', 'nan'], ['Bedding Collections', 'Bedspreads', 'Bed Skirts', 'Kids Bedding', 'Shams']]\n"
     ]
    }
   ],
   "source": [
    "Input_Data = []\n",
    "for i in range(0, No_of_Transactions):\n",
    "    Input_Data.append([str(data.values[i,j]) for j in range(0, Maximum_Items)])\n",
    "\n",
    "print(\"Input Transactions : \", Input_Data)\n",
    "items = sorted([item for sublist in Input_Data for item in sublist if item != 'nan'])"
   ]
  },
  {
   "cell_type": "markdown",
   "metadata": {
    "id": "l6XuQyKTsuWU"
   },
   "source": [
    "**For k=1 to 4 , candidate_set and the frequent ItemSet are calculated by comparing the support count of each item in the list to the Minimum Support value. We check if all the subsets in itemset are frequent using the check subset frequency function and if not, we remove respective itemset from the list by comparing the length of the two possible lists using the sublist function.**\n",
    "\n",
    "**We are printing all the Item_Sets generated after calculations.**"
   ]
  },
  {
   "cell_type": "code",
   "execution_count": 38,
   "metadata": {
    "colab": {
     "base_uri": "https://localhost:8080/"
    },
    "id": "9e0LWkrCzpe6",
    "outputId": "9e4a28e8-5bb6-4e49-d11c-5cfddbd7576d"
   },
   "outputs": [
    {
     "name": "stdout",
     "output_type": "stream",
     "text": [
      " \n",
      " \n",
      "Frequent Item set generated when k=1 =>  {'Bed Skirts': 6, 'Bedding Collections': 6, 'Bedspreads': 4, 'Decorative Pillows': 4, 'Embroidered Bedspread': 4, 'Kids Bedding': 5, 'Quilts': 4, 'Shams': 5, 'Sheets': 4}\n",
      "Frequent Item set generated when k=2 =>  {('Bed Skirts', 'Bedding Collections'): 5, ('Bed Skirts', 'Bedspreads'): 4, ('Bed Skirts', 'Kids Bedding'): 4, ('Bed Skirts', 'Shams'): 4, ('Bed Skirts', 'Sheets'): 4, ('Bedding Collections', 'Bedspreads'): 3, ('Bedding Collections', 'Embroidered Bedspread'): 2, ('Bedding Collections', 'Kids Bedding'): 3, ('Bedding Collections', 'Shams'): 3, ('Bedding Collections', 'Sheets'): 3, ('Bedspreads', 'Kids Bedding'): 2, ('Bedspreads', 'Shams'): 3, ('Bedspreads', 'Sheets'): 3, ('Decorative Pillows', 'Embroidered Bedspread'): 2, ('Decorative Pillows', 'Kids Bedding'): 2, ('Decorative Pillows', 'Quilts'): 3, ('Embroidered Bedspread', 'Kids Bedding'): 2, ('Embroidered Bedspread', 'Quilts'): 3, ('Embroidered Bedspread', 'Shams'): 2, ('Kids Bedding', 'Shams'): 4, ('Kids Bedding', 'Sheets'): 2, ('Shams', 'Sheets'): 2}\n",
      "Frequent Item set generated when k=3 =>  {('Bed Skirts', 'Bedding Collections', 'Bedspreads'): 3, ('Bed Skirts', 'Bedding Collections', 'Kids Bedding'): 3, ('Bed Skirts', 'Bedding Collections', 'Shams'): 3, ('Bed Skirts', 'Bedding Collections', 'Sheets'): 3, ('Bed Skirts', 'Bedspreads', 'Kids Bedding'): 2, ('Bed Skirts', 'Bedspreads', 'Shams'): 3, ('Bed Skirts', 'Bedspreads', 'Sheets'): 3, ('Bed Skirts', 'Kids Bedding', 'Shams'): 3, ('Bed Skirts', 'Kids Bedding', 'Sheets'): 2, ('Bed Skirts', 'Shams', 'Sheets'): 2, ('Bedding Collections', 'Bedspreads', 'Shams'): 2, ('Bedding Collections', 'Bedspreads', 'Sheets'): 2, ('Bedding Collections', 'Kids Bedding', 'Shams'): 2, ('Bedspreads', 'Kids Bedding', 'Shams'): 2, ('Bedspreads', 'Shams', 'Sheets'): 2, ('Decorative Pillows', 'Embroidered Bedspread', 'Quilts'): 2, ('Embroidered Bedspread', 'Kids Bedding', 'Shams'): 2}\n",
      "Frequent Item set generated when k=4 =>  {('Bed Skirts', 'Bedding Collections', 'Bedspreads', 'Shams'): 2, ('Bed Skirts', 'Bedding Collections', 'Bedspreads', 'Sheets'): 2, ('Bed Skirts', 'Bedding Collections', 'Kids Bedding', 'Shams'): 2, ('Bed Skirts', 'Bedspreads', 'Kids Bedding', 'Shams'): 2, ('Bed Skirts', 'Bedspreads', 'Shams', 'Sheets'): 2}\n"
     ]
    }
   ],
   "source": [
    "# For k=1 , the candidate_set C1 is calculated alongwith Item_set  L1 which is our desired output.\n",
    "\n",
    "def k_1(items, Minimum_Support):\n",
    "    candidate_set1 = {i:items.count(i) for i in items}\n",
    "    Item_set1 = {}\n",
    "    for key, value in candidate_set1.items():\n",
    "        if value >= Minimum_Support:\n",
    "           Item_set1[key] = value \n",
    "    \n",
    "    return candidate_set1, Item_set1\n",
    "\n",
    "# For k=2 , the candidate_set C2 is calculated alongwith Frequent Item_set  L2 which is calculated by comparing value with Minimum_Support .\n",
    "\n",
    "def k_2(Item_set1, Input_Data, Minimum_Support):\n",
    "    Item_set1 = sorted(list(Item_set1.keys()))\n",
    "    L1 = list(itertools.combinations(Item_set1, 2))\n",
    "    candidate_set2 = {}\n",
    "    Item_set2 = {}\n",
    "    for iter1 in L1:\n",
    "        count = 0\n",
    "        for iter2 in Input_Data:\n",
    "            if sublist(iter1, iter2):\n",
    "                count+=1\n",
    "        candidate_set2[iter1] = count\n",
    "    for key, value in candidate_set2.items():\n",
    "        if value >= Minimum_Support:\n",
    "            if check_subset_frequency(key, Item_set1, 1):  \n",
    "                Item_set2[key] = value \n",
    "    \n",
    "    return candidate_set2, Item_set2\n",
    "\n",
    "# For k=3 , the candidate_set C3 is calculated alongwith Frequent Item_set  L3 which is calculated by comparing value with Minimum_Support .   \n",
    "def k_3(Item_set2, Input_Data, Minimum_Support):\n",
    "    Item_set2 = list(Item_set2.keys())\n",
    "    L2 = sorted(list(set([item for t in Item_set2 for item in t])))\n",
    "    L2 = list(itertools.combinations(L2, 3))\n",
    "    candidate_set3 = {}\n",
    "    Item_set3 = {}\n",
    "    for iter1 in L2:\n",
    "        count = 0\n",
    "        for iter2 in Input_Data:\n",
    "            if sublist(iter1, iter2):\n",
    "                count+=1\n",
    "        candidate_set3[iter1] = count\n",
    "    for key, value in candidate_set3.items():\n",
    "        if value >= Minimum_Support:\n",
    "            if check_subset_frequency(key, Item_set2, 2):  \n",
    "                Item_set3[key] = value \n",
    "        \n",
    "    return candidate_set3, Item_set3\n",
    "\n",
    "# For k=4 , the candidate_set C4 is calculated alongwith Frequent Item_set  L4 which is calculated by comparing value with Minimum_Support . \n",
    "def k_4(Item_set3, Input_Data, Minimum_Support):\n",
    "    Item_set3 = list(Item_set3.keys())\n",
    "    L3 = sorted(list(set([item for t in Item_set3 for item in t])))\n",
    "    L3 = list(itertools.combinations(L3, 4))\n",
    "    candidate_set4 = {}\n",
    "    Item_set4 = {}\n",
    "    for iter1 in L3:\n",
    "        count = 0\n",
    "        for iter2 in Input_Data:\n",
    "            if sublist(iter1, iter2):\n",
    "                count+=1\n",
    "        candidate_set4[iter1] = count\n",
    "    for key, value in candidate_set4.items():\n",
    "        if value >= Minimum_Support:\n",
    "            if check_subset_frequency(key, Item_set3, 3):    \n",
    "                Item_set4[key] = value \n",
    "        \n",
    "    return candidate_set4, Item_set4\n",
    "\n",
    "def sublist(lst1, lst2):\n",
    "    return set(lst1) <= set(lst2)\n",
    "    \n",
    "def check_subset_frequency(itemset, l, n):\n",
    "    if n>1:    \n",
    "        subsets = list(itertools.combinations(itemset, n))\n",
    "    else:\n",
    "        subsets = itemset\n",
    "    for iter1 in subsets:\n",
    "        if not iter1 in l:\n",
    "            return False\n",
    "    return True\n",
    "\n",
    "\n",
    "candidate_set1, Item_set1 = k_1(items, Minimum_Support)\n",
    "candidate_set2, Item_set2 = k_2(Item_set1, Input_Data, Minimum_Support)\n",
    "candidate_set3, Item_set3 = k_3(Item_set2, Input_Data, Minimum_Support)\n",
    "candidate_set4, Item_set4 = k_4(Item_set3, Input_Data, Minimum_Support)\n",
    "print(\" \")\n",
    "print(\" \")\n",
    "print(\"Frequent Item set generated when k=1 => \", Item_set1)\n",
    "print(\"Frequent Item set generated when k=2 => \", Item_set2)\n",
    "print(\"Frequent Item set generated when k=3 => \", Item_set3)\n",
    "print(\"Frequent Item set generated when k=4 => \", Item_set4)\n",
    "\n",
    "\n",
    "itemlist = {**Item_set1, **Item_set2, **Item_set3, **Item_set4}"
   ]
  },
  {
   "cell_type": "markdown",
   "metadata": {
    "id": "XMMNBiywtKX2"
   },
   "source": [
    "**Calculating  the Association rules based on the confidence value.**"
   ]
  },
  {
   "cell_type": "code",
   "execution_count": 39,
   "metadata": {
    "colab": {
     "base_uri": "https://localhost:8080/"
    },
    "id": "BkwwiXAHtLkr",
    "outputId": "10a950fd-e9f9-4446-d0c7-a811396bc55b"
   },
   "outputs": [
    {
     "name": "stdout",
     "output_type": "stream",
     "text": [
      " \n",
      " \n",
      "Association rules generated with their confidence value =>('Bed Skirts', 'Bedding Collections')->{'Bedspreads'} =  60.0\n",
      " \n",
      " \n",
      "Association rules generated with their confidence value =>('Bed Skirts', 'Bedspreads')->{'Bedding Collections'} =  75.0\n",
      " \n",
      " \n",
      "Association rules generated with their confidence value =>('Bedding Collections', 'Bedspreads')->{'Bed Skirts'} =  100.0\n",
      " \n",
      " \n",
      "Association rules generated with their confidence value =>('Bed Skirts', 'Bedding Collections')->{'Kids Bedding'} =  60.0\n",
      " \n",
      " \n",
      "Association rules generated with their confidence value =>('Bed Skirts', 'Kids Bedding')->{'Bedding Collections'} =  75.0\n",
      " \n",
      " \n",
      "Association rules generated with their confidence value =>('Bedding Collections', 'Kids Bedding')->{'Bed Skirts'} =  100.0\n",
      " \n",
      " \n",
      "Association rules generated with their confidence value =>('Bed Skirts', 'Bedding Collections')->{'Shams'} =  60.0\n",
      " \n",
      " \n",
      "Association rules generated with their confidence value =>('Bed Skirts', 'Shams')->{'Bedding Collections'} =  75.0\n",
      " \n",
      " \n",
      "Association rules generated with their confidence value =>('Bedding Collections', 'Shams')->{'Bed Skirts'} =  100.0\n",
      " \n",
      " \n",
      "Association rules generated with their confidence value =>('Bed Skirts', 'Bedding Collections')->{'Sheets'} =  60.0\n",
      " \n",
      " \n",
      "Association rules generated with their confidence value =>('Bed Skirts', 'Sheets')->{'Bedding Collections'} =  75.0\n",
      " \n",
      " \n",
      "Association rules generated with their confidence value =>('Bedding Collections', 'Sheets')->{'Bed Skirts'} =  100.0\n",
      " \n",
      " \n",
      "Association rules generated with their confidence value =>('Bedspreads', 'Kids Bedding')->{'Bed Skirts'} =  100.0\n",
      " \n",
      " \n",
      "Association rules generated with their confidence value =>('Bed Skirts', 'Bedspreads')->{'Shams'} =  75.0\n",
      " \n",
      " \n",
      "Association rules generated with their confidence value =>('Bed Skirts', 'Shams')->{'Bedspreads'} =  75.0\n",
      " \n",
      " \n",
      "Association rules generated with their confidence value =>('Bedspreads', 'Shams')->{'Bed Skirts'} =  100.0\n",
      " \n",
      " \n",
      "Association rules generated with their confidence value =>('Bed Skirts', 'Bedspreads')->{'Sheets'} =  75.0\n",
      " \n",
      " \n",
      "Association rules generated with their confidence value =>('Bed Skirts', 'Sheets')->{'Bedspreads'} =  75.0\n",
      " \n",
      " \n",
      "Association rules generated with their confidence value =>('Bedspreads', 'Sheets')->{'Bed Skirts'} =  100.0\n",
      " \n",
      " \n",
      "Association rules generated with their confidence value =>('Bed Skirts', 'Kids Bedding')->{'Shams'} =  75.0\n",
      " \n",
      " \n",
      "Association rules generated with their confidence value =>('Bed Skirts', 'Shams')->{'Kids Bedding'} =  75.0\n",
      " \n",
      " \n",
      "Association rules generated with their confidence value =>('Kids Bedding', 'Shams')->{'Bed Skirts'} =  75.0\n",
      " \n",
      " \n",
      "Association rules generated with their confidence value =>('Kids Bedding', 'Sheets')->{'Bed Skirts'} =  100.0\n",
      " \n",
      " \n",
      "Association rules generated with their confidence value =>('Shams', 'Sheets')->{'Bed Skirts'} =  100.0\n",
      " \n",
      " \n",
      "Association rules generated with their confidence value =>('Bedding Collections', 'Bedspreads')->{'Shams'} =  66.66666666666666\n",
      " \n",
      " \n",
      "Association rules generated with their confidence value =>('Bedding Collections', 'Shams')->{'Bedspreads'} =  66.66666666666666\n",
      " \n",
      " \n",
      "Association rules generated with their confidence value =>('Bedspreads', 'Shams')->{'Bedding Collections'} =  66.66666666666666\n",
      " \n",
      " \n",
      "Association rules generated with their confidence value =>('Bedding Collections', 'Bedspreads')->{'Sheets'} =  66.66666666666666\n",
      " \n",
      " \n",
      "Association rules generated with their confidence value =>('Bedding Collections', 'Sheets')->{'Bedspreads'} =  66.66666666666666\n",
      " \n",
      " \n",
      "Association rules generated with their confidence value =>('Bedspreads', 'Sheets')->{'Bedding Collections'} =  66.66666666666666\n",
      " \n",
      " \n",
      "Association rules generated with their confidence value =>('Bedding Collections', 'Kids Bedding')->{'Shams'} =  66.66666666666666\n",
      " \n",
      " \n",
      "Association rules generated with their confidence value =>('Bedding Collections', 'Shams')->{'Kids Bedding'} =  66.66666666666666\n",
      " \n",
      " \n",
      "Association rules generated with their confidence value =>('Bedspreads', 'Kids Bedding')->{'Shams'} =  100.0\n",
      " \n",
      " \n",
      "Association rules generated with their confidence value =>('Bedspreads', 'Shams')->{'Kids Bedding'} =  66.66666666666666\n",
      " \n",
      " \n",
      "Association rules generated with their confidence value =>('Bedspreads', 'Shams')->{'Sheets'} =  66.66666666666666\n",
      " \n",
      " \n",
      "Association rules generated with their confidence value =>('Bedspreads', 'Sheets')->{'Shams'} =  66.66666666666666\n",
      " \n",
      " \n",
      "Association rules generated with their confidence value =>('Shams', 'Sheets')->{'Bedspreads'} =  100.0\n",
      " \n",
      " \n",
      "Association rules generated with their confidence value =>('Decorative Pillows', 'Embroidered Bedspread')->{'Quilts'} =  100.0\n",
      " \n",
      " \n",
      "Association rules generated with their confidence value =>('Decorative Pillows', 'Quilts')->{'Embroidered Bedspread'} =  66.66666666666666\n",
      " \n",
      " \n",
      "Association rules generated with their confidence value =>('Embroidered Bedspread', 'Quilts')->{'Decorative Pillows'} =  66.66666666666666\n",
      " \n",
      " \n",
      "Association rules generated with their confidence value =>('Embroidered Bedspread', 'Kids Bedding')->{'Shams'} =  100.0\n",
      " \n",
      " \n",
      "Association rules generated with their confidence value =>('Embroidered Bedspread', 'Shams')->{'Kids Bedding'} =  100.0\n"
     ]
    }
   ],
   "source": [
    "def support_count(itemset, itemlist):\n",
    "    return itemlist[itemset]\n",
    "\n",
    "sets = []\n",
    "for iter1 in list(Item_set3.keys()):\n",
    "    subsets = list(itertools.combinations(iter1, 2))\n",
    "    sets.append(subsets)\n",
    "\n",
    "list_l3 = list(Item_set3.keys())\n",
    "for i in range(0, len(list_l3)):\n",
    "    for iter1 in sets[i]:\n",
    "        a = iter1\n",
    "        b = set(list_l3[i]) - set(iter1)\n",
    "        confidence = (support_count(list_l3[i], itemlist)/support_count(iter1, itemlist))*100\n",
    "        if(confidence >= Minimum_Confidence_value):\n",
    "          print(\" \")\n",
    "          print(\" \")\n",
    "          print(\"Association rules generated with their confidence value =>{}->{} = \".format(a,b), confidence)"
   ]
  },
  {
   "cell_type": "markdown",
   "metadata": {
    "id": "ZMkYAIZRtmUj"
   },
   "source": [
    "## **DATASET 4 -**"
   ]
  },
  {
   "cell_type": "markdown",
   "metadata": {
    "id": "9GjMn2TRokGk"
   },
   "source": [
    "**Uploading Dataset using filesystem. All Datasets are available in GitHub for convinience.**"
   ]
  },
  {
   "cell_type": "code",
   "execution_count": 40,
   "metadata": {
    "colab": {
     "base_uri": "https://localhost:8080/"
    },
    "id": "kKuDY34lzwpA",
    "outputId": "1484f8be-a29f-44cf-b242-106625431ea4"
   },
   "outputs": [],
   "source": [
    "data=pd.read_csv(r\"C:\\Users\\HP\\OneDrive\\Desktop\\DATA_MINING_MIDTERM_PROJECT\\Dataset4.csv\")"
   ]
  },
  {
   "cell_type": "code",
   "execution_count": 41,
   "metadata": {
    "colab": {
     "base_uri": "https://localhost:8080/",
     "height": 203
    },
    "id": "ZL826GpdZM77",
    "outputId": "adcf8a63-5b73-4066-baba-188d1922db50"
   },
   "outputs": [
    {
     "data": {
      "text/html": [
       "<div>\n",
       "<style scoped>\n",
       "    .dataframe tbody tr th:only-of-type {\n",
       "        vertical-align: middle;\n",
       "    }\n",
       "\n",
       "    .dataframe tbody tr th {\n",
       "        vertical-align: top;\n",
       "    }\n",
       "\n",
       "    .dataframe thead th {\n",
       "        text-align: right;\n",
       "    }\n",
       "</style>\n",
       "<table border=\"1\" class=\"dataframe\">\n",
       "  <thead>\n",
       "    <tr style=\"text-align: right;\">\n",
       "      <th></th>\n",
       "      <th>Running Shoe</th>\n",
       "      <th>Socks</th>\n",
       "      <th>Sweatshirts</th>\n",
       "      <th>Modern Pants</th>\n",
       "      <th>Unnamed: 4</th>\n",
       "      <th>Unnamed: 5</th>\n",
       "      <th>Unnamed: 6</th>\n",
       "      <th>Unnamed: 7</th>\n",
       "      <th>Unnamed: 8</th>\n",
       "      <th>Unnamed: 9</th>\n",
       "    </tr>\n",
       "  </thead>\n",
       "  <tbody>\n",
       "    <tr>\n",
       "      <th>0</th>\n",
       "      <td>Running Shoe</td>\n",
       "      <td>Socks</td>\n",
       "      <td>Sweatshirts</td>\n",
       "      <td>NaN</td>\n",
       "      <td>NaN</td>\n",
       "      <td>NaN</td>\n",
       "      <td>NaN</td>\n",
       "      <td>NaN</td>\n",
       "      <td>NaN</td>\n",
       "      <td>NaN</td>\n",
       "    </tr>\n",
       "    <tr>\n",
       "      <th>1</th>\n",
       "      <td>Running Shoe</td>\n",
       "      <td>Socks</td>\n",
       "      <td>Sweatshirts</td>\n",
       "      <td>Modern Pants</td>\n",
       "      <td>NaN</td>\n",
       "      <td>NaN</td>\n",
       "      <td>NaN</td>\n",
       "      <td>NaN</td>\n",
       "      <td>NaN</td>\n",
       "      <td>NaN</td>\n",
       "    </tr>\n",
       "    <tr>\n",
       "      <th>2</th>\n",
       "      <td>Running Shoe</td>\n",
       "      <td>Sweatshirts</td>\n",
       "      <td>Modern Pants</td>\n",
       "      <td>NaN</td>\n",
       "      <td>NaN</td>\n",
       "      <td>NaN</td>\n",
       "      <td>NaN</td>\n",
       "      <td>NaN</td>\n",
       "      <td>NaN</td>\n",
       "      <td>NaN</td>\n",
       "    </tr>\n",
       "    <tr>\n",
       "      <th>3</th>\n",
       "      <td>Running Shoe</td>\n",
       "      <td>Socks</td>\n",
       "      <td>Sweatshirts</td>\n",
       "      <td>Modern Pants</td>\n",
       "      <td>Soccer Shoe</td>\n",
       "      <td>NaN</td>\n",
       "      <td>NaN</td>\n",
       "      <td>NaN</td>\n",
       "      <td>NaN</td>\n",
       "      <td>NaN</td>\n",
       "    </tr>\n",
       "    <tr>\n",
       "      <th>4</th>\n",
       "      <td>Running Shoe</td>\n",
       "      <td>Socks</td>\n",
       "      <td>Sweatshirts</td>\n",
       "      <td>NaN</td>\n",
       "      <td>NaN</td>\n",
       "      <td>NaN</td>\n",
       "      <td>NaN</td>\n",
       "      <td>NaN</td>\n",
       "      <td>NaN</td>\n",
       "      <td>NaN</td>\n",
       "    </tr>\n",
       "  </tbody>\n",
       "</table>\n",
       "</div>"
      ],
      "text/plain": [
       "   Running Shoe        Socks   Sweatshirts  Modern Pants   Unnamed: 4  \\\n",
       "0  Running Shoe        Socks   Sweatshirts           NaN          NaN   \n",
       "1  Running Shoe        Socks   Sweatshirts  Modern Pants          NaN   \n",
       "2  Running Shoe  Sweatshirts  Modern Pants           NaN          NaN   \n",
       "3  Running Shoe        Socks   Sweatshirts  Modern Pants  Soccer Shoe   \n",
       "4  Running Shoe        Socks   Sweatshirts           NaN          NaN   \n",
       "\n",
       "  Unnamed: 5 Unnamed: 6 Unnamed: 7 Unnamed: 8 Unnamed: 9  \n",
       "0        NaN        NaN        NaN        NaN        NaN  \n",
       "1        NaN        NaN        NaN        NaN        NaN  \n",
       "2        NaN        NaN        NaN        NaN        NaN  \n",
       "3        NaN        NaN        NaN        NaN        NaN  \n",
       "4        NaN        NaN        NaN        NaN        NaN  "
      ]
     },
     "execution_count": 41,
     "metadata": {},
     "output_type": "execute_result"
    }
   ],
   "source": [
    "data.head()"
   ]
  },
  {
   "cell_type": "code",
   "execution_count": 42,
   "metadata": {
    "colab": {
     "base_uri": "https://localhost:8080/",
     "height": 203
    },
    "id": "-QaPgCRkZNbm",
    "outputId": "db94d291-855a-4274-a21a-8a572fd37ea4"
   },
   "outputs": [
    {
     "data": {
      "text/html": [
       "<div>\n",
       "<style scoped>\n",
       "    .dataframe tbody tr th:only-of-type {\n",
       "        vertical-align: middle;\n",
       "    }\n",
       "\n",
       "    .dataframe tbody tr th {\n",
       "        vertical-align: top;\n",
       "    }\n",
       "\n",
       "    .dataframe thead th {\n",
       "        text-align: right;\n",
       "    }\n",
       "</style>\n",
       "<table border=\"1\" class=\"dataframe\">\n",
       "  <thead>\n",
       "    <tr style=\"text-align: right;\">\n",
       "      <th></th>\n",
       "      <th>Running Shoe</th>\n",
       "      <th>Socks</th>\n",
       "      <th>Sweatshirts</th>\n",
       "      <th>Modern Pants</th>\n",
       "      <th>Unnamed: 4</th>\n",
       "      <th>Unnamed: 5</th>\n",
       "      <th>Unnamed: 6</th>\n",
       "      <th>Unnamed: 7</th>\n",
       "      <th>Unnamed: 8</th>\n",
       "      <th>Unnamed: 9</th>\n",
       "    </tr>\n",
       "  </thead>\n",
       "  <tbody>\n",
       "    <tr>\n",
       "      <th>14</th>\n",
       "      <td>Swimming Shirt</td>\n",
       "      <td>Soccer Shoe</td>\n",
       "      <td>Hoodies</td>\n",
       "      <td>Dry Fit V-Nick</td>\n",
       "      <td>Tech Pants</td>\n",
       "      <td>Rash Guard</td>\n",
       "      <td>NaN</td>\n",
       "      <td>NaN</td>\n",
       "      <td>NaN</td>\n",
       "      <td>NaN</td>\n",
       "    </tr>\n",
       "    <tr>\n",
       "      <th>15</th>\n",
       "      <td>Running Shoe</td>\n",
       "      <td>Socks</td>\n",
       "      <td>NaN</td>\n",
       "      <td>NaN</td>\n",
       "      <td>NaN</td>\n",
       "      <td>NaN</td>\n",
       "      <td>NaN</td>\n",
       "      <td>NaN</td>\n",
       "      <td>NaN</td>\n",
       "      <td>NaN</td>\n",
       "    </tr>\n",
       "    <tr>\n",
       "      <th>16</th>\n",
       "      <td>Socks</td>\n",
       "      <td>Sweatshirts</td>\n",
       "      <td>Modern Pants</td>\n",
       "      <td>Soccer Shoe</td>\n",
       "      <td>Hoodies</td>\n",
       "      <td>Rash Guard</td>\n",
       "      <td>Tech Pants</td>\n",
       "      <td>Dry Fit V-Nick</td>\n",
       "      <td>NaN</td>\n",
       "      <td>NaN</td>\n",
       "    </tr>\n",
       "    <tr>\n",
       "      <th>17</th>\n",
       "      <td>Running Shoe</td>\n",
       "      <td>Swimming Shirt</td>\n",
       "      <td>Rash Guard</td>\n",
       "      <td>NaN</td>\n",
       "      <td>NaN</td>\n",
       "      <td>NaN</td>\n",
       "      <td>NaN</td>\n",
       "      <td>NaN</td>\n",
       "      <td>NaN</td>\n",
       "      <td>NaN</td>\n",
       "    </tr>\n",
       "    <tr>\n",
       "      <th>18</th>\n",
       "      <td>Running Shoe</td>\n",
       "      <td>Swimming Shirt</td>\n",
       "      <td>Socks</td>\n",
       "      <td>Sweatshirts</td>\n",
       "      <td>Modern Pants</td>\n",
       "      <td>Soccer Shoe</td>\n",
       "      <td>Hoodies</td>\n",
       "      <td>Tech Pants</td>\n",
       "      <td>Rash Guard</td>\n",
       "      <td>Dry Fit V-Nick</td>\n",
       "    </tr>\n",
       "  </tbody>\n",
       "</table>\n",
       "</div>"
      ],
      "text/plain": [
       "      Running Shoe           Socks   Sweatshirts    Modern Pants  \\\n",
       "14  Swimming Shirt     Soccer Shoe       Hoodies  Dry Fit V-Nick   \n",
       "15    Running Shoe           Socks           NaN             NaN   \n",
       "16           Socks     Sweatshirts  Modern Pants     Soccer Shoe   \n",
       "17    Running Shoe  Swimming Shirt    Rash Guard             NaN   \n",
       "18    Running Shoe  Swimming Shirt         Socks     Sweatshirts   \n",
       "\n",
       "      Unnamed: 4   Unnamed: 5  Unnamed: 6      Unnamed: 7  Unnamed: 8  \\\n",
       "14    Tech Pants   Rash Guard         NaN             NaN         NaN   \n",
       "15           NaN          NaN         NaN             NaN         NaN   \n",
       "16       Hoodies   Rash Guard  Tech Pants  Dry Fit V-Nick         NaN   \n",
       "17           NaN          NaN         NaN             NaN         NaN   \n",
       "18  Modern Pants  Soccer Shoe     Hoodies      Tech Pants  Rash Guard   \n",
       "\n",
       "        Unnamed: 9  \n",
       "14             NaN  \n",
       "15             NaN  \n",
       "16             NaN  \n",
       "17             NaN  \n",
       "18  Dry Fit V-Nick  "
      ]
     },
     "execution_count": 42,
     "metadata": {},
     "output_type": "execute_result"
    }
   ],
   "source": [
    "data.tail()"
   ]
  },
  {
   "cell_type": "markdown",
   "metadata": {
    "id": "UdNWVNvMp4Ki"
   },
   "source": [
    "**Getting input from the user for the following :**\n",
    "\n",
    "**1.Number of Transactions (Max possible value = 20)**\n",
    "\n",
    "**2.Maximum items per transactions (Max possible value = 5)**\n",
    "\n",
    "**3.Minimum value of support (Min possible value = 20)**\n",
    "\n",
    "**4.Minimum confidence value (Maximum possible value =100)**"
   ]
  },
  {
   "cell_type": "code",
   "execution_count": 43,
   "metadata": {
    "colab": {
     "base_uri": "https://localhost:8080/"
    },
    "id": "73TsvEN_uBlI",
    "outputId": "896fff89-7d55-4d06-a7f4-4d122f878e40"
   },
   "outputs": [
    {
     "name": "stdout",
     "output_type": "stream",
     "text": [
      "Number of transactions as per database : 10\n",
      "Maximum items in each transaction as per database : 5\n",
      "Minimum support value : 20\n",
      "Minimum_Confidence_value : 60\n"
     ]
    }
   ],
   "source": [
    "No_of_Transactions=int(input(\"Number of transactions as per database : \"))\n",
    "Maximum_Items=int(input(\"Maximum items in each transaction as per database : \"))\n",
    "\n",
    "minimum_support_count=float(input(\"Minimum support value : \"))\n",
    "Minimum_Support= (minimum_support_count/100)*No_of_Transactions\n",
    "\n",
    "Minimum_Confidence_value=float(input(\"Minimum_Confidence_value : \"))"
   ]
  },
  {
   "cell_type": "markdown",
   "metadata": {
    "id": "VLBUUxvBuMo2"
   },
   "source": [
    "**Data processing to create the required records and item-list for further processing.**"
   ]
  },
  {
   "cell_type": "code",
   "execution_count": 44,
   "metadata": {
    "colab": {
     "base_uri": "https://localhost:8080/"
    },
    "id": "VoEWDJyWuOtf",
    "outputId": "2ba8e376-7cae-4365-ddd8-e10808a4fd45"
   },
   "outputs": [
    {
     "name": "stdout",
     "output_type": "stream",
     "text": [
      "Input Transactions :  [['Running Shoe', 'Socks', 'Sweatshirts', 'nan', 'nan'], ['Running Shoe', 'Socks', 'Sweatshirts', 'Modern Pants', 'nan'], ['Running Shoe', 'Sweatshirts', 'Modern Pants', 'nan', 'nan'], ['Running Shoe', 'Socks', 'Sweatshirts', 'Modern Pants', 'Soccer Shoe'], ['Running Shoe', 'Socks', 'Sweatshirts', 'nan', 'nan'], ['Running Shoe', 'Socks', 'Sweatshirts', 'Modern Pants', 'Tech Pants'], ['Swimming Shirt', 'Socks', 'Sweatshirts', 'nan', 'nan'], ['Swimming Shirt', 'Rash Guard', 'Dry Fit V-Nick', 'Hoodies', 'Tech Pants'], ['Swimming Shirt', 'Rash Guard', 'Dry', 'nan', 'nan'], ['Swimming Shirt', 'Rash Guard', 'Dry Fit V-Nick', 'nan', 'nan']]\n"
     ]
    }
   ],
   "source": [
    "Input_Data = []\n",
    "for i in range(0, No_of_Transactions):\n",
    "    Input_Data.append([str(data.values[i,j]) for j in range(0, Maximum_Items)])\n",
    "\n",
    "print(\"Input Transactions : \", Input_Data)\n",
    "items = sorted([item for sublist in Input_Data for item in sublist if item != 'nan'])"
   ]
  },
  {
   "cell_type": "markdown",
   "metadata": {
    "id": "FeW6BjTNue7P"
   },
   "source": [
    "**For k=1 to 4 , candidate_set and the frequent ItemSet are calculated by comparing the support count of each item in the list to the Minimum Support value. We check if all the subsets in itemset are frequent using the check subset frequency function and if not, we remove respective itemset from the list by comparing the length of the two possible lists using the sublist function.**\n",
    "\n",
    "**We are printing all the Item_Sets generated after calculations.**"
   ]
  },
  {
   "cell_type": "code",
   "execution_count": 45,
   "metadata": {
    "colab": {
     "base_uri": "https://localhost:8080/"
    },
    "id": "2sAku59QzymT",
    "outputId": "53ae150c-05ec-4965-b19f-308ccdfbf996"
   },
   "outputs": [
    {
     "name": "stdout",
     "output_type": "stream",
     "text": [
      " \n",
      " \n",
      "Frequent Item set generated when k=1 =>  {'Dry Fit V-Nick': 2, 'Modern Pants': 4, 'Rash Guard': 3, 'Running Shoe': 6, 'Socks': 6, 'Sweatshirts': 7, 'Swimming Shirt': 4, 'Tech Pants': 2}\n",
      "Frequent Item set generated when k=2 =>  {('Dry Fit V-Nick', 'Rash Guard'): 2, ('Dry Fit V-Nick', 'Swimming Shirt'): 2, ('Modern Pants', 'Running Shoe'): 4, ('Modern Pants', 'Socks'): 3, ('Modern Pants', 'Sweatshirts'): 4, ('Rash Guard', 'Swimming Shirt'): 3, ('Running Shoe', 'Socks'): 5, ('Running Shoe', 'Sweatshirts'): 6, ('Socks', 'Sweatshirts'): 6}\n",
      "Frequent Item set generated when k=3 =>  {('Dry Fit V-Nick', 'Rash Guard', 'Swimming Shirt'): 2, ('Modern Pants', 'Running Shoe', 'Socks'): 3, ('Modern Pants', 'Running Shoe', 'Sweatshirts'): 4, ('Modern Pants', 'Socks', 'Sweatshirts'): 3, ('Running Shoe', 'Socks', 'Sweatshirts'): 5}\n",
      "Frequent Item set generated when k=4 =>  {('Modern Pants', 'Running Shoe', 'Socks', 'Sweatshirts'): 3}\n"
     ]
    }
   ],
   "source": [
    "# For k=1 , the candidate_set C1 is calculated alongwith Item_set  L1 which is our desired output.\n",
    "\n",
    "def k_1(items, Minimum_Support):\n",
    "    candidate_set1 = {i:items.count(i) for i in items}\n",
    "    Item_set1 = {}\n",
    "    for key, value in candidate_set1.items():\n",
    "        if value >= Minimum_Support:\n",
    "           Item_set1[key] = value \n",
    "    \n",
    "    return candidate_set1, Item_set1\n",
    "\n",
    "# For k=2 , the candidate_set C2 is calculated alongwith Frequent Item_set  L2 which is calculated by comparing value with Minimum_Support .\n",
    "\n",
    "def k_2(Item_set1, Input_Data, Minimum_Support):\n",
    "    Item_set1 = sorted(list(Item_set1.keys()))\n",
    "    L1 = list(itertools.combinations(Item_set1, 2))\n",
    "    candidate_set2 = {}\n",
    "    Item_set2 = {}\n",
    "    for iter1 in L1:\n",
    "        count = 0\n",
    "        for iter2 in Input_Data:\n",
    "            if sublist(iter1, iter2):\n",
    "                count+=1\n",
    "        candidate_set2[iter1] = count\n",
    "    for key, value in candidate_set2.items():\n",
    "        if value >= Minimum_Support:\n",
    "            if check_subset_frequency(key, Item_set1, 1):  \n",
    "                Item_set2[key] = value \n",
    "    \n",
    "    return candidate_set2, Item_set2\n",
    "\n",
    "# For k=3 , the candidate_set C3 is calculated alongwith Frequent Item_set  L3 which is calculated by comparing value with Minimum_Support .   \n",
    "def k_3(Item_set2, Input_Data, Minimum_Support):\n",
    "    Item_set2 = list(Item_set2.keys())\n",
    "    L2 = sorted(list(set([item for t in Item_set2 for item in t])))\n",
    "    L2 = list(itertools.combinations(L2, 3))\n",
    "    candidate_set3 = {}\n",
    "    Item_set3 = {}\n",
    "    for iter1 in L2:\n",
    "        count = 0\n",
    "        for iter2 in Input_Data:\n",
    "            if sublist(iter1, iter2):\n",
    "                count+=1\n",
    "        candidate_set3[iter1] = count\n",
    "    for key, value in candidate_set3.items():\n",
    "        if value >= Minimum_Support:\n",
    "            if check_subset_frequency(key, Item_set2, 2):  \n",
    "                Item_set3[key] = value \n",
    "        \n",
    "    return candidate_set3, Item_set3\n",
    "\n",
    "# For k=4 , the candidate_set C4 is calculated alongwith Frequent Item_set  L4 which is calculated by comparing value with Minimum_Support . \n",
    "def k_4(Item_set3, Input_Data, Minimum_Support):\n",
    "    Item_set3 = list(Item_set3.keys())\n",
    "    L3 = sorted(list(set([item for t in Item_set3 for item in t])))\n",
    "    L3 = list(itertools.combinations(L3, 4))\n",
    "    candidate_set4 = {}\n",
    "    Item_set4 = {}\n",
    "    for iter1 in L3:\n",
    "        count = 0\n",
    "        for iter2 in Input_Data:\n",
    "            if sublist(iter1, iter2):\n",
    "                count+=1\n",
    "        candidate_set4[iter1] = count\n",
    "    for key, value in candidate_set4.items():\n",
    "        if value >= Minimum_Support:\n",
    "            if check_subset_frequency(key, Item_set3, 3):    \n",
    "                Item_set4[key] = value \n",
    "        \n",
    "    return candidate_set4, Item_set4\n",
    "\n",
    "def sublist(lst1, lst2):\n",
    "    return set(lst1) <= set(lst2)\n",
    "    \n",
    "def check_subset_frequency(itemset, l, n):\n",
    "    if n>1:    \n",
    "        subsets = list(itertools.combinations(itemset, n))\n",
    "    else:\n",
    "        subsets = itemset\n",
    "    for iter1 in subsets:\n",
    "        if not iter1 in l:\n",
    "            return False\n",
    "    return True\n",
    "\n",
    "\n",
    "candidate_set1, Item_set1 = k_1(items, Minimum_Support)\n",
    "candidate_set2, Item_set2 = k_2(Item_set1, Input_Data, Minimum_Support)\n",
    "candidate_set3, Item_set3 = k_3(Item_set2, Input_Data, Minimum_Support)\n",
    "candidate_set4, Item_set4 = k_4(Item_set3, Input_Data, Minimum_Support)\n",
    "print(\" \")\n",
    "print(\" \")\n",
    "print(\"Frequent Item set generated when k=1 => \", Item_set1)\n",
    "print(\"Frequent Item set generated when k=2 => \", Item_set2)\n",
    "print(\"Frequent Item set generated when k=3 => \", Item_set3)\n",
    "print(\"Frequent Item set generated when k=4 => \", Item_set4)\n",
    "\n",
    "\n",
    "itemlist = {**Item_set1, **Item_set2, **Item_set3, **Item_set4}"
   ]
  },
  {
   "cell_type": "markdown",
   "metadata": {
    "id": "46q09Urjuz7K"
   },
   "source": [
    "**Calculating  the Association rules based on the confidence value.**"
   ]
  },
  {
   "cell_type": "code",
   "execution_count": 46,
   "metadata": {
    "colab": {
     "base_uri": "https://localhost:8080/"
    },
    "id": "kXgO32VUu0zN",
    "outputId": "94f5c9bd-5ee3-45e5-ad12-6ebec0563d03"
   },
   "outputs": [
    {
     "name": "stdout",
     "output_type": "stream",
     "text": [
      " \n",
      " \n",
      "Association rules generated with their confidence value =>('Dry Fit V-Nick', 'Rash Guard')->{'Swimming Shirt'} =  100.0\n",
      " \n",
      " \n",
      "Association rules generated with their confidence value =>('Dry Fit V-Nick', 'Swimming Shirt')->{'Rash Guard'} =  100.0\n",
      " \n",
      " \n",
      "Association rules generated with their confidence value =>('Rash Guard', 'Swimming Shirt')->{'Dry Fit V-Nick'} =  66.66666666666666\n",
      " \n",
      " \n",
      "Association rules generated with their confidence value =>('Modern Pants', 'Running Shoe')->{'Socks'} =  75.0\n",
      " \n",
      " \n",
      "Association rules generated with their confidence value =>('Modern Pants', 'Socks')->{'Running Shoe'} =  100.0\n",
      " \n",
      " \n",
      "Association rules generated with their confidence value =>('Running Shoe', 'Socks')->{'Modern Pants'} =  60.0\n",
      " \n",
      " \n",
      "Association rules generated with their confidence value =>('Modern Pants', 'Running Shoe')->{'Sweatshirts'} =  100.0\n",
      " \n",
      " \n",
      "Association rules generated with their confidence value =>('Modern Pants', 'Sweatshirts')->{'Running Shoe'} =  100.0\n",
      " \n",
      " \n",
      "Association rules generated with their confidence value =>('Running Shoe', 'Sweatshirts')->{'Modern Pants'} =  66.66666666666666\n",
      " \n",
      " \n",
      "Association rules generated with their confidence value =>('Modern Pants', 'Socks')->{'Sweatshirts'} =  100.0\n",
      " \n",
      " \n",
      "Association rules generated with their confidence value =>('Modern Pants', 'Sweatshirts')->{'Socks'} =  75.0\n",
      " \n",
      " \n",
      "Association rules generated with their confidence value =>('Running Shoe', 'Socks')->{'Sweatshirts'} =  100.0\n",
      " \n",
      " \n",
      "Association rules generated with their confidence value =>('Running Shoe', 'Sweatshirts')->{'Socks'} =  83.33333333333334\n",
      " \n",
      " \n",
      "Association rules generated with their confidence value =>('Socks', 'Sweatshirts')->{'Running Shoe'} =  83.33333333333334\n"
     ]
    }
   ],
   "source": [
    "def support_count(itemset, itemlist):\n",
    "    return itemlist[itemset]\n",
    "\n",
    "sets = []\n",
    "for iter1 in list(Item_set3.keys()):\n",
    "    subsets = list(itertools.combinations(iter1, 2))\n",
    "    sets.append(subsets)\n",
    "\n",
    "list_l3 = list(Item_set3.keys())\n",
    "for i in range(0, len(list_l3)):\n",
    "    for iter1 in sets[i]:\n",
    "        a = iter1\n",
    "        b = set(list_l3[i]) - set(iter1)\n",
    "        confidence = (support_count(list_l3[i], itemlist)/support_count(iter1, itemlist))*100\n",
    "        if(confidence >= Minimum_Confidence_value):\n",
    "          print(\" \")\n",
    "          print(\" \")\n",
    "          print(\"Association rules generated with their confidence value =>{}->{} = \".format(a,b), confidence)"
   ]
  },
  {
   "cell_type": "markdown",
   "metadata": {
    "id": "3jSIQcUHvjEA"
   },
   "source": [
    "## **DATASET 5 -**"
   ]
  },
  {
   "cell_type": "markdown",
   "metadata": {
    "id": "TGPZ7sxIooCe"
   },
   "source": [
    "**Uploading Dataset from filesystem. All Datasets are available in GitHub for convinience.**"
   ]
  },
  {
   "cell_type": "code",
   "execution_count": 5,
   "metadata": {
    "colab": {
     "base_uri": "https://localhost:8080/"
    },
    "id": "pzP2URNHz8DH",
    "outputId": "c0e870c6-b7d4-42cb-9392-7bc0537b0fa4"
   },
   "outputs": [],
   "source": [
    "data=pd.read_csv(r\"C:\\Users\\HP\\OneDrive\\Desktop\\DATA_MINING_MIDTERM_PROJECT\\Dataset5.csv\")"
   ]
  },
  {
   "cell_type": "code",
   "execution_count": 6,
   "metadata": {
    "colab": {
     "base_uri": "https://localhost:8080/",
     "height": 203
    },
    "id": "xbkJ4QvAZW0Y",
    "outputId": "ee0ddca0-e4d8-4c8c-f8f0-0512a91b50a6"
   },
   "outputs": [
    {
     "data": {
      "text/html": [
       "<div>\n",
       "<style scoped>\n",
       "    .dataframe tbody tr th:only-of-type {\n",
       "        vertical-align: middle;\n",
       "    }\n",
       "\n",
       "    .dataframe tbody tr th {\n",
       "        vertical-align: top;\n",
       "    }\n",
       "\n",
       "    .dataframe thead th {\n",
       "        text-align: right;\n",
       "    }\n",
       "</style>\n",
       "<table border=\"1\" class=\"dataframe\">\n",
       "  <thead>\n",
       "    <tr style=\"text-align: right;\">\n",
       "      <th></th>\n",
       "      <th>A</th>\n",
       "      <th>B</th>\n",
       "      <th>C</th>\n",
       "      <th>Unnamed: 3</th>\n",
       "      <th>Unnamed: 4</th>\n",
       "    </tr>\n",
       "  </thead>\n",
       "  <tbody>\n",
       "    <tr>\n",
       "      <th>0</th>\n",
       "      <td>A</td>\n",
       "      <td>B</td>\n",
       "      <td>C</td>\n",
       "      <td>NaN</td>\n",
       "      <td>NaN</td>\n",
       "    </tr>\n",
       "    <tr>\n",
       "      <th>1</th>\n",
       "      <td>A</td>\n",
       "      <td>B</td>\n",
       "      <td>C</td>\n",
       "      <td>D</td>\n",
       "      <td>NaN</td>\n",
       "    </tr>\n",
       "    <tr>\n",
       "      <th>2</th>\n",
       "      <td>A</td>\n",
       "      <td>B</td>\n",
       "      <td>C</td>\n",
       "      <td>D</td>\n",
       "      <td>E</td>\n",
       "    </tr>\n",
       "    <tr>\n",
       "      <th>3</th>\n",
       "      <td>A</td>\n",
       "      <td>B</td>\n",
       "      <td>D</td>\n",
       "      <td>E</td>\n",
       "      <td>NaN</td>\n",
       "    </tr>\n",
       "    <tr>\n",
       "      <th>4</th>\n",
       "      <td>A</td>\n",
       "      <td>D</td>\n",
       "      <td>E</td>\n",
       "      <td>NaN</td>\n",
       "      <td>NaN</td>\n",
       "    </tr>\n",
       "  </tbody>\n",
       "</table>\n",
       "</div>"
      ],
      "text/plain": [
       "   A  B  C Unnamed: 3 Unnamed: 4\n",
       "0  A  B  C        NaN        NaN\n",
       "1  A  B  C          D        NaN\n",
       "2  A  B  C          D          E\n",
       "3  A  B  D          E        NaN\n",
       "4  A  D  E        NaN        NaN"
      ]
     },
     "execution_count": 6,
     "metadata": {},
     "output_type": "execute_result"
    }
   ],
   "source": [
    "data.head()"
   ]
  },
  {
   "cell_type": "code",
   "execution_count": 7,
   "metadata": {
    "colab": {
     "base_uri": "https://localhost:8080/",
     "height": 203
    },
    "id": "hKz0zeF3ZWJJ",
    "outputId": "e2e4d2ef-ee28-47e0-9106-e791a90bbdfc"
   },
   "outputs": [
    {
     "data": {
      "text/html": [
       "<div>\n",
       "<style scoped>\n",
       "    .dataframe tbody tr th:only-of-type {\n",
       "        vertical-align: middle;\n",
       "    }\n",
       "\n",
       "    .dataframe tbody tr th {\n",
       "        vertical-align: top;\n",
       "    }\n",
       "\n",
       "    .dataframe thead th {\n",
       "        text-align: right;\n",
       "    }\n",
       "</style>\n",
       "<table border=\"1\" class=\"dataframe\">\n",
       "  <thead>\n",
       "    <tr style=\"text-align: right;\">\n",
       "      <th></th>\n",
       "      <th>A</th>\n",
       "      <th>B</th>\n",
       "      <th>C</th>\n",
       "      <th>Unnamed: 3</th>\n",
       "      <th>Unnamed: 4</th>\n",
       "    </tr>\n",
       "  </thead>\n",
       "  <tbody>\n",
       "    <tr>\n",
       "      <th>5</th>\n",
       "      <td>A</td>\n",
       "      <td>E</td>\n",
       "      <td>NaN</td>\n",
       "      <td>NaN</td>\n",
       "      <td>NaN</td>\n",
       "    </tr>\n",
       "    <tr>\n",
       "      <th>6</th>\n",
       "      <td>A</td>\n",
       "      <td>E</td>\n",
       "      <td>NaN</td>\n",
       "      <td>NaN</td>\n",
       "      <td>NaN</td>\n",
       "    </tr>\n",
       "    <tr>\n",
       "      <th>7</th>\n",
       "      <td>A</td>\n",
       "      <td>C</td>\n",
       "      <td>E</td>\n",
       "      <td>NaN</td>\n",
       "      <td>NaN</td>\n",
       "    </tr>\n",
       "    <tr>\n",
       "      <th>8</th>\n",
       "      <td>A</td>\n",
       "      <td>C</td>\n",
       "      <td>E</td>\n",
       "      <td>NaN</td>\n",
       "      <td>NaN</td>\n",
       "    </tr>\n",
       "    <tr>\n",
       "      <th>9</th>\n",
       "      <td>A</td>\n",
       "      <td>C</td>\n",
       "      <td>E</td>\n",
       "      <td>NaN</td>\n",
       "      <td>NaN</td>\n",
       "    </tr>\n",
       "  </tbody>\n",
       "</table>\n",
       "</div>"
      ],
      "text/plain": [
       "   A  B    C Unnamed: 3 Unnamed: 4\n",
       "5  A  E  NaN        NaN        NaN\n",
       "6  A  E  NaN        NaN        NaN\n",
       "7  A  C    E        NaN        NaN\n",
       "8  A  C    E        NaN        NaN\n",
       "9  A  C    E        NaN        NaN"
      ]
     },
     "execution_count": 7,
     "metadata": {},
     "output_type": "execute_result"
    }
   ],
   "source": [
    "data.tail()"
   ]
  },
  {
   "cell_type": "markdown",
   "metadata": {
    "id": "vfWa2gOpqB1a"
   },
   "source": [
    "**Getting input from the user for the following :**\n",
    "\n",
    "**1.Number of Transactions (Max possible value = 20)**\n",
    "\n",
    "**2.Maximum items per transactions (Max possible value = 5)**\n",
    "\n",
    "**3.Minimum value of support (Min possible value = 20)**\n",
    "\n",
    "**4.Minimum confidence value (Maximum possible value =100)**"
   ]
  },
  {
   "cell_type": "code",
   "execution_count": 8,
   "metadata": {
    "colab": {
     "base_uri": "https://localhost:8080/"
    },
    "id": "rNxTNW8Xv49U",
    "outputId": "35e4a557-0617-4c73-9455-ad834625a9a1"
   },
   "outputs": [
    {
     "name": "stdout",
     "output_type": "stream",
     "text": [
      "Number of transactions as per database : 10\n",
      "Maximum items in each transaction as per database : 5\n",
      "Minimum support value : 20\n",
      "Minimum_Confidence_value : 60\n"
     ]
    }
   ],
   "source": [
    "No_of_Transactions=int(input(\"Number of transactions as per database : \"))\n",
    "Maximum_Items=int(input(\"Maximum items in each transaction as per database : \"))\n",
    "\n",
    "minimum_support_count=float(input(\"Minimum support value : \"))\n",
    "Minimum_Support= (minimum_support_count/100)*No_of_Transactions\n",
    "\n",
    "Minimum_Confidence_value=float(input(\"Minimum_Confidence_value : \"))"
   ]
  },
  {
   "cell_type": "markdown",
   "metadata": {
    "id": "P-S7xWRIv_EC"
   },
   "source": [
    "**Data processing to create the required records and item-list for further processing.**"
   ]
  },
  {
   "cell_type": "code",
   "execution_count": 9,
   "metadata": {
    "colab": {
     "base_uri": "https://localhost:8080/"
    },
    "id": "Pp7h7r7WwEYQ",
    "outputId": "95141150-45ef-45fe-9299-6786663ec2fa"
   },
   "outputs": [
    {
     "name": "stdout",
     "output_type": "stream",
     "text": [
      "Input Transactions :  [['A', 'B', 'C', 'nan', 'nan'], ['A', 'B', 'C', 'D', 'nan'], ['A', 'B', 'C', 'D', 'E'], ['A', 'B', 'D', 'E', 'nan'], ['A', 'D', 'E', 'nan', 'nan'], ['A', 'E', 'nan', 'nan', 'nan'], ['A', 'E', 'nan', 'nan', 'nan'], ['A', 'C', 'E', 'nan', 'nan'], ['A', 'C', 'E', 'nan', 'nan'], ['A', 'C', 'E', 'nan', 'nan']]\n"
     ]
    }
   ],
   "source": [
    "Input_Data = []\n",
    "for i in range(0, No_of_Transactions):\n",
    "    Input_Data.append([str(data.values[i,j]) for j in range(0, Maximum_Items)])\n",
    "\n",
    "print(\"Input Transactions : \", Input_Data)\n",
    "items = sorted([item for sublist in Input_Data for item in sublist if item != 'nan'])"
   ]
  },
  {
   "cell_type": "markdown",
   "metadata": {
    "id": "avcT0tDswFRH"
   },
   "source": [
    "**For k=1 to 4 , candidate_set and the frequent ItemSet are calculated by comparing the support count of each item in the list to the Minimum Support value. We check if all the subsets in itemset are frequent using the check subset frequency function and if not, we remove respective itemset from the list by comparing the length of the two possible lists using the sublist function.**\n",
    "\n",
    "**We are printing all the Item_Sets generated after calculations.**"
   ]
  },
  {
   "cell_type": "code",
   "execution_count": 10,
   "metadata": {
    "colab": {
     "base_uri": "https://localhost:8080/"
    },
    "id": "7uKZMx620AFT",
    "outputId": "829934ac-5747-4e05-df9f-e4fad248679d"
   },
   "outputs": [
    {
     "name": "stdout",
     "output_type": "stream",
     "text": [
      " \n",
      " \n",
      "Frequent Item set generated when k=1 =>  {'A': 10, 'B': 4, 'C': 6, 'D': 4, 'E': 8}\n",
      "Frequent Item set generated when k=2 =>  {('A', 'B'): 4, ('A', 'C'): 6, ('A', 'D'): 4, ('A', 'E'): 8, ('B', 'C'): 3, ('B', 'D'): 3, ('B', 'E'): 2, ('C', 'D'): 2, ('C', 'E'): 4, ('D', 'E'): 3}\n",
      "Frequent Item set generated when k=3 =>  {('A', 'B', 'C'): 3, ('A', 'B', 'D'): 3, ('A', 'B', 'E'): 2, ('A', 'C', 'D'): 2, ('A', 'C', 'E'): 4, ('A', 'D', 'E'): 3, ('B', 'C', 'D'): 2, ('B', 'D', 'E'): 2}\n",
      "Frequent Item set generated when k=4 =>  {('A', 'B', 'C', 'D'): 2, ('A', 'B', 'D', 'E'): 2}\n"
     ]
    }
   ],
   "source": [
    "# For k=1 , the candidate_set C1 is calculated alongwith Item_set  L1 which is our desired output.\n",
    "\n",
    "def k_1(items, Minimum_Support):\n",
    "    candidate_set1 = {i:items.count(i) for i in items}\n",
    "    Item_set1 = {}\n",
    "    for key, value in candidate_set1.items():\n",
    "        if value >= Minimum_Support:\n",
    "           Item_set1[key] = value \n",
    "    \n",
    "    return candidate_set1, Item_set1\n",
    "\n",
    "# For k=2 , the candidate_set C2 is calculated alongwith Frequent Item_set  L2 which is calculated by comparing value with Minimum_Support .\n",
    "\n",
    "def k_2(Item_set1, Input_Data, Minimum_Support):\n",
    "    Item_set1 = sorted(list(Item_set1.keys()))\n",
    "    L1 = list(itertools.combinations(Item_set1, 2))\n",
    "    candidate_set2 = {}\n",
    "    Item_set2 = {}\n",
    "    for iter1 in L1:\n",
    "        count = 0\n",
    "        for iter2 in Input_Data:\n",
    "            if sublist(iter1, iter2):\n",
    "                count+=1\n",
    "        candidate_set2[iter1] = count\n",
    "    for key, value in candidate_set2.items():\n",
    "        if value >= Minimum_Support:\n",
    "            if check_subset_frequency(key, Item_set1, 1):  \n",
    "                Item_set2[key] = value \n",
    "    \n",
    "    return candidate_set2, Item_set2\n",
    "\n",
    "# For k=3 , the candidate_set C3 is calculated alongwith Frequent Item_set  L3 which is calculated by comparing value with Minimum_Support .   \n",
    "def k_3(Item_set2, Input_Data, Minimum_Support):\n",
    "    Item_set2 = list(Item_set2.keys())\n",
    "    L2 = sorted(list(set([item for t in Item_set2 for item in t])))\n",
    "    L2 = list(itertools.combinations(L2, 3))\n",
    "    candidate_set3 = {}\n",
    "    Item_set3 = {}\n",
    "    for iter1 in L2:\n",
    "        count = 0\n",
    "        for iter2 in Input_Data:\n",
    "            if sublist(iter1, iter2):\n",
    "                count+=1\n",
    "        candidate_set3[iter1] = count\n",
    "    for key, value in candidate_set3.items():\n",
    "        if value >= Minimum_Support:\n",
    "            if check_subset_frequency(key, Item_set2, 2):  \n",
    "                Item_set3[key] = value \n",
    "        \n",
    "    return candidate_set3, Item_set3\n",
    "\n",
    "# For k=4 , the candidate_set C4 is calculated alongwith Frequent Item_set  L4 which is calculated by comparing value with Minimum_Support . \n",
    "def k_4(Item_set3, Input_Data, Minimum_Support):\n",
    "    Item_set3 = list(Item_set3.keys())\n",
    "    L3 = sorted(list(set([item for t in Item_set3 for item in t])))\n",
    "    L3 = list(itertools.combinations(L3, 4))\n",
    "    candidate_set4 = {}\n",
    "    Item_set4 = {}\n",
    "    for iter1 in L3:\n",
    "        count = 0\n",
    "        for iter2 in Input_Data:\n",
    "            if sublist(iter1, iter2):\n",
    "                count+=1\n",
    "        candidate_set4[iter1] = count\n",
    "    for key, value in candidate_set4.items():\n",
    "        if value >= Minimum_Support:\n",
    "            if check_subset_frequency(key, Item_set3, 3):    \n",
    "                Item_set4[key] = value \n",
    "        \n",
    "    return candidate_set4, Item_set4\n",
    "\n",
    "def sublist(lst1, lst2):\n",
    "    return set(lst1) <= set(lst2)\n",
    "    \n",
    "def check_subset_frequency(itemset, l, n):\n",
    "    if n>1:    \n",
    "        subsets = list(itertools.combinations(itemset, n))\n",
    "    else:\n",
    "        subsets = itemset\n",
    "    for iter1 in subsets:\n",
    "        if not iter1 in l:\n",
    "            return False\n",
    "    return True\n",
    "\n",
    "\n",
    "candidate_set1, Item_set1 = k_1(items, Minimum_Support)\n",
    "candidate_set2, Item_set2 = k_2(Item_set1, Input_Data, Minimum_Support)\n",
    "candidate_set3, Item_set3 = k_3(Item_set2, Input_Data, Minimum_Support)\n",
    "candidate_set4, Item_set4 = k_4(Item_set3, Input_Data, Minimum_Support)\n",
    "print(\" \")\n",
    "print(\" \")\n",
    "print(\"Frequent Item set generated when k=1 => \", Item_set1)\n",
    "print(\"Frequent Item set generated when k=2 => \", Item_set2)\n",
    "print(\"Frequent Item set generated when k=3 => \", Item_set3)\n",
    "print(\"Frequent Item set generated when k=4 => \", Item_set4)\n",
    "\n",
    "\n",
    "itemlist = {**Item_set1, **Item_set2, **Item_set3, **Item_set4}"
   ]
  },
  {
   "cell_type": "markdown",
   "metadata": {
    "id": "8eVJdrRqwcpz"
   },
   "source": [
    "**Calculating  the Association rules based on the confidence value.**"
   ]
  },
  {
   "cell_type": "code",
   "execution_count": 11,
   "metadata": {
    "colab": {
     "base_uri": "https://localhost:8080/"
    },
    "id": "A5YRk7m8wdmi",
    "outputId": "0027c050-93a1-495b-e642-08899202bfd8"
   },
   "outputs": [
    {
     "name": "stdout",
     "output_type": "stream",
     "text": [
      " \n",
      " \n",
      "Association rules generated with their confidence value =>('A', 'B')->{'C'} =  75.0\n",
      " \n",
      " \n",
      "Association rules generated with their confidence value =>('B', 'C')->{'A'} =  100.0\n",
      " \n",
      " \n",
      "Association rules generated with their confidence value =>('A', 'B')->{'D'} =  75.0\n",
      " \n",
      " \n",
      "Association rules generated with their confidence value =>('A', 'D')->{'B'} =  75.0\n",
      " \n",
      " \n",
      "Association rules generated with their confidence value =>('B', 'D')->{'A'} =  100.0\n",
      " \n",
      " \n",
      "Association rules generated with their confidence value =>('B', 'E')->{'A'} =  100.0\n",
      " \n",
      " \n",
      "Association rules generated with their confidence value =>('C', 'D')->{'A'} =  100.0\n",
      " \n",
      " \n",
      "Association rules generated with their confidence value =>('A', 'C')->{'E'} =  66.66666666666666\n",
      " \n",
      " \n",
      "Association rules generated with their confidence value =>('C', 'E')->{'A'} =  100.0\n",
      " \n",
      " \n",
      "Association rules generated with their confidence value =>('A', 'D')->{'E'} =  75.0\n",
      " \n",
      " \n",
      "Association rules generated with their confidence value =>('D', 'E')->{'A'} =  100.0\n",
      " \n",
      " \n",
      "Association rules generated with their confidence value =>('B', 'C')->{'D'} =  66.66666666666666\n",
      " \n",
      " \n",
      "Association rules generated with their confidence value =>('B', 'D')->{'C'} =  66.66666666666666\n",
      " \n",
      " \n",
      "Association rules generated with their confidence value =>('C', 'D')->{'B'} =  100.0\n",
      " \n",
      " \n",
      "Association rules generated with their confidence value =>('B', 'D')->{'E'} =  66.66666666666666\n",
      " \n",
      " \n",
      "Association rules generated with their confidence value =>('B', 'E')->{'D'} =  100.0\n",
      " \n",
      " \n",
      "Association rules generated with their confidence value =>('D', 'E')->{'B'} =  66.66666666666666\n"
     ]
    }
   ],
   "source": [
    "def support_count(itemset, itemlist):\n",
    "    return itemlist[itemset]\n",
    "\n",
    "sets = []\n",
    "for iter1 in list(Item_set3.keys()):\n",
    "    subsets = list(itertools.combinations(iter1, 2))\n",
    "    sets.append(subsets)\n",
    "\n",
    "list_l3 = list(Item_set3.keys())\n",
    "for i in range(0, len(list_l3)):\n",
    "    for iter1 in sets[i]:\n",
    "        a = iter1\n",
    "        b = set(list_l3[i]) - set(iter1)\n",
    "        confidence = (support_count(list_l3[i], itemlist)/support_count(iter1, itemlist))*100\n",
    "        if(confidence >= Minimum_Confidence_value):\n",
    "          print(\" \")\n",
    "          print(\" \")\n",
    "          print(\"Association rules generated with their confidence value =>{}->{} = \".format(a,b), confidence)"
   ]
  }
 ],
 "metadata": {
  "colab": {
   "collapsed_sections": [],
   "name": "Mathur_Garima_Midtermproj.ipynb",
   "provenance": []
  },
  "kernelspec": {
   "display_name": "Python 3",
   "language": "python",
   "name": "python3"
  },
  "language_info": {
   "codemirror_mode": {
    "name": "ipython",
    "version": 3
   },
   "file_extension": ".py",
   "mimetype": "text/x-python",
   "name": "python",
   "nbconvert_exporter": "python",
   "pygments_lexer": "ipython3",
   "version": "3.8.1"
  }
 },
 "nbformat": 4,
 "nbformat_minor": 1
}
